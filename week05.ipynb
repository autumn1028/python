{
 "cells": [
  {
   "cell_type": "markdown",
   "id": "236e3b0f",
   "metadata": {},
   "source": [
    "# 파이썬 프로그래밍 5주차"
   ]
  },
  {
   "cell_type": "markdown",
   "id": "892ec5cc",
   "metadata": {},
   "source": [
    "#### fruit = ['사과', '귤', '사탕', '김밥', '파인애플', '키위', '짜장면']\n",
    "##### 위에 나와있는 fruit 리스트에서 과일이 아닌 것을 삭제하고, 가나다순으로 정렬한 뒤 수정된 fruit 리스트에 순서에  '포도'와 '바나나' 항목 추가하기"
   ]
  },
  {
   "cell_type": "code",
   "execution_count": 11,
   "id": "dbf977e6",
   "metadata": {},
   "outputs": [
    {
     "name": "stdout",
     "output_type": "stream",
     "text": [
      "['사과', '귤', '파인애플', '키위']\n",
      "['귤', '사과', '키위', '파인애플']\n",
      "['귤', '바나나', '사과', '키위', '파인애플', '포도']\n"
     ]
    }
   ],
   "source": [
    "fruit = ['사과', '귤', '사탕', '김밥', '파인애플', '키위', '짜장면']\n",
    "#과일 아닌 항목 제거\n",
    "del fruit[2:4]\n",
    "fruit.remove('짜장면')\n",
    "print(fruit)\n",
    "\n",
    "#가나다순 정렬\n",
    "fruit.sort()\n",
    "print(fruit)\n",
    "\n",
    "#포도, 바나나 항목 추가\n",
    "fruit.insert(4, '포도')\n",
    "fruit.insert(1, '바나나')\n",
    "print(fruit)"
   ]
  },
  {
   "cell_type": "code",
   "execution_count": null,
   "id": "e64243e9",
   "metadata": {},
   "outputs": [],
   "source": []
  }
 ],
 "metadata": {
  "kernelspec": {
   "display_name": "Python 3 (ipykernel)",
   "language": "python",
   "name": "python3"
  },
  "language_info": {
   "codemirror_mode": {
    "name": "ipython",
    "version": 3
   },
   "file_extension": ".py",
   "mimetype": "text/x-python",
   "name": "python",
   "nbconvert_exporter": "python",
   "pygments_lexer": "ipython3",
   "version": "3.9.7"
  }
 },
 "nbformat": 4,
 "nbformat_minor": 5
}
