{
 "cells": [
  {
   "cell_type": "markdown",
   "id": "236e3b0f",
   "metadata": {},
   "source": [
    "# 파이썬 프로그래밍 5주차"
   ]
  },
  {
   "cell_type": "markdown",
   "id": "892ec5cc",
   "metadata": {},
   "source": [
    "#### fruit = ['사과', '귤', '사탕', '김밥', '파인애플', '키위', '짜장면']\n",
    "#### (1) 위에 나와있는 fruit 리스트에서 과일이 아닌 것을 삭제하고, 가나다순으로 정렬하기\n",
    "#### (2) 수정된 fruit 리스트에 순서에 맞게 '포도'와 '바나나' 항목 추가하기"
   ]
  },
  {
   "cell_type": "markdown",
   "id": "2e833dc8",
   "metadata": {},
   "source": [
    "(1)"
   ]
  },
  {
   "cell_type": "code",
   "execution_count": 6,
   "id": "80d08155",
   "metadata": {},
   "outputs": [
    {
     "name": "stdout",
     "output_type": "stream",
     "text": [
      "['사과', '귤', '파인애플', '키위']\n"
     ]
    }
   ],
   "source": [
    "fruit = ['사과', '귤', '사탕', '김밥', '파인애플', '키위', '짜장면']\n",
    "#과일 아닌 항목 제거\n",
    "del fruit[2:4]\n",
    "fruit.remove('짜장면')\n",
    "print(fruit)"
   ]
  },
  {
   "cell_type": "code",
   "execution_count": 7,
   "id": "d2885c50",
   "metadata": {},
   "outputs": [
    {
     "name": "stdout",
     "output_type": "stream",
     "text": [
      "['귤', '사과', '키위', '파인애플']\n"
     ]
    }
   ],
   "source": [
    "#가나다순 정렬\n",
    "fruit.sort()\n",
    "print(fruit)"
   ]
  },
  {
   "cell_type": "markdown",
   "id": "d803e6cd",
   "metadata": {},
   "source": [
    "(2)"
   ]
  },
  {
   "cell_type": "code",
   "execution_count": 8,
   "id": "557206d0",
   "metadata": {},
   "outputs": [],
   "source": [
    "#포도, 바나나 항목 추가\n",
    "fruit.insert(4, '포도')\n",
    "fruit.insert(1, '바나나')"
   ]
  },
  {
   "cell_type": "code",
   "execution_count": null,
   "id": "4047dfb8",
   "metadata": {},
   "outputs": [],
   "source": []
  }
 ],
 "metadata": {
  "kernelspec": {
   "display_name": "Python 3 (ipykernel)",
   "language": "python",
   "name": "python3"
  },
  "language_info": {
   "codemirror_mode": {
    "name": "ipython",
    "version": 3
   },
   "file_extension": ".py",
   "mimetype": "text/x-python",
   "name": "python",
   "nbconvert_exporter": "python",
   "pygments_lexer": "ipython3",
   "version": "3.9.7"
  }
 },
 "nbformat": 4,
 "nbformat_minor": 5
}
