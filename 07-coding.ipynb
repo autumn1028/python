{
 "cells": [
  {
   "cell_type": "markdown",
   "id": "6f2e9d4f",
   "metadata": {},
   "source": [
    "7-1"
   ]
  },
  {
   "cell_type": "code",
   "execution_count": 1,
   "id": "5e242029",
   "metadata": {
    "scrolled": true
   },
   "outputs": [
    {
     "name": "stdout",
     "output_type": "stream",
     "text": [
      "처음 하는 함수 호출 hello()\n",
      "함수 호출 hello() 이후\n",
      "1\n",
      "<function helloint at 0x00000261182AE8B0>\n",
      "\t 77\n",
      "3\n"
     ]
    }
   ],
   "source": [
    "def hello():\n",
    "    print('\\tHello, Python!')\n",
    "def helloint():\n",
    "    print('\\t', 77)\n",
    "print('처음 하는 함수 호출 hello()')\n",
    "hello\n",
    "print('함수 호출 hello() 이후')\n",
    "\n",
    "print(1)\n",
    "print(helloint)\n",
    "helloint()\n",
    "print(3)"
   ]
  },
  {
   "cell_type": "markdown",
   "id": "82b1d630",
   "metadata": {},
   "source": [
    "7-2"
   ]
  },
  {
   "cell_type": "code",
   "execution_count": 2,
   "id": "b923e983",
   "metadata": {},
   "outputs": [
    {
     "name": "stdout",
     "output_type": "stream",
     "text": [
      "안녕, 수빈!\n",
      "안녕, 현수!\n"
     ]
    }
   ],
   "source": [
    "def hello(name):\n",
    "    print('안녕, {}!'.format(name))\n",
    "    \n",
    "hello('수빈')\n",
    "sname = '현수'\n",
    "hello(sname)"
   ]
  },
  {
   "cell_type": "markdown",
   "id": "930c3fd0",
   "metadata": {},
   "source": [
    "7-3"
   ]
  },
  {
   "cell_type": "code",
   "execution_count": 3,
   "id": "615c5b72",
   "metadata": {},
   "outputs": [
    {
     "name": "stdout",
     "output_type": "stream",
     "text": [
      "안녕, 여러분!\n",
      "안녕, 현철!\n"
     ]
    }
   ],
   "source": [
    "def hello(name = '여러분'):\n",
    "    print('안녕, {}!'.format(name))\n",
    "    \n",
    "hello()\n",
    "hello('현철')"
   ]
  },
  {
   "cell_type": "markdown",
   "id": "2587c0de",
   "metadata": {},
   "source": [
    "7-4"
   ]
  },
  {
   "cell_type": "code",
   "execution_count": 6,
   "id": "716abd25",
   "metadata": {},
   "outputs": [
    {
     "name": "stdout",
     "output_type": "stream",
     "text": [
      "5\n",
      "15\n"
     ]
    }
   ],
   "source": [
    "def mysum(x, y = 0):\n",
    "    \"\"\"두 수의 합 반환 함수\"\"\"\n",
    "    return x + y\n",
    "\n",
    "hap = mysum(5) \n",
    "print(hap)\n",
    "\n",
    "hap = mysum(5, 10)    \n",
    "print(hap)"
   ]
  },
  {
   "cell_type": "markdown",
   "id": "1a47657e",
   "metadata": {},
   "source": [
    "7-5"
   ]
  },
  {
   "cell_type": "code",
   "execution_count": 7,
   "id": "cd7a6f9e",
   "metadata": {},
   "outputs": [
    {
     "name": "stdout",
     "output_type": "stream",
     "text": [
      "섭씨: 28, 화씨: 82.40\n",
      "섭씨: 30, 화씨: 86.00\n",
      "섭씨: 32, 화씨: 89.60\n",
      "섭씨: 34, 화씨: 93.20\n",
      "섭씨: 32.22, 화씨: 90\n",
      "섭씨: 33.89, 화씨: 93\n",
      "섭씨: 35.56, 화씨: 96\n",
      "섭씨: 37.22, 화씨: 99\n",
      "섭씨: 38.89, 화씨: 102\n"
     ]
    }
   ],
   "source": [
    "def ctofahrenhite(cels):\n",
    "    \"\"\" 인자인 섭씨온도 cels을 화씨 온도로 변환하여 반환 \"\"\"\n",
    "    return cels * 9/5 + 32\n",
    "\n",
    "def ftocelsius(fahr): \n",
    "    \"\"\" 인자인 화씨온도 fahr을 섭씨 온도로 변환하여 반환 \"\"\"\n",
    "    return (fahr - 32) * 5/9\n",
    "    \n",
    "for cels in range(28, 35, 2):\n",
    "    print('섭씨: {}, 화씨: {:.2f}'.format(cels, ctofahrenhite(cels)))\n",
    "    \n",
    "for fahr in range(90, 103, 3):\n",
    "    print('섭씨: {:.2f}, 화씨: {}'.format(ftocelsius(fahr), fahr))"
   ]
  },
  {
   "cell_type": "markdown",
   "id": "545f3c42",
   "metadata": {},
   "source": [
    "7-6"
   ]
  },
  {
   "cell_type": "code",
   "execution_count": 8,
   "id": "7104d151",
   "metadata": {},
   "outputs": [
    {
     "name": "stdout",
     "output_type": "stream",
     "text": [
      "i: 20\n",
      "\t지역 변수 i: 31\n",
      "i: 20\n"
     ]
    }
   ],
   "source": [
    "def addone():\n",
    "    '''함수에서 대입에 사용되는 변수는 지역변수'''\n",
    "    i = 30 \n",
    "    i += 1 \n",
    "    print('\\t지역 변수 i:', i) \n",
    "\n",
    "i = 20 \n",
    "print('i:', i)\n",
    "addone()\n",
    "print('i:', i)"
   ]
  },
  {
   "cell_type": "markdown",
   "id": "b3d943d8",
   "metadata": {},
   "source": [
    "7-7"
   ]
  },
  {
   "cell_type": "code",
   "execution_count": 9,
   "id": "128c0233",
   "metadata": {},
   "outputs": [
    {
     "name": "stdout",
     "output_type": "stream",
     "text": [
      "i =  20\n",
      "\t전역 변수 i 읽기, i + 1:  21\n",
      "i =  20\n"
     ]
    }
   ],
   "source": [
    "def addone():\n",
    "    '''대입이 없는 변수가 참조되면 전역변수로 인식'''\n",
    "    print('\\t전역 변수 i 읽기, i + 1: ', i + 1) \n",
    "\n",
    "i = 20 #전역변수\n",
    "print('i = ', i)\n",
    "addone() #함수 호출\n",
    "print('i = ', i)"
   ]
  },
  {
   "cell_type": "markdown",
   "id": "cd8e0d5b",
   "metadata": {},
   "source": [
    "7-8"
   ]
  },
  {
   "cell_type": "code",
   "execution_count": 10,
   "id": "e3b1f78f",
   "metadata": {},
   "outputs": [
    {
     "name": "stdout",
     "output_type": "stream",
     "text": [
      "i =  20\n",
      "\t전역 변수 i 읽기, i + 1:  21\n",
      "i =  21\n"
     ]
    }
   ],
   "source": [
    "def addone():\n",
    "    '''명시적으로 변수를 전역변수로 지정인식'''\n",
    "    global i\n",
    "    print('\\t전역 변수 i 읽기, i + 1: ', i + 1) \n",
    "    i += 1\n",
    "    \n",
    "i = 20\n",
    "print('i = ', i)\n",
    "addone()\n",
    "print('i = ', i)"
   ]
  },
  {
   "cell_type": "markdown",
   "id": "ea5b37af",
   "metadata": {},
   "source": [
    "7-9"
   ]
  },
  {
   "cell_type": "code",
   "execution_count": 12,
   "id": "c88b80e9",
   "metadata": {
    "scrolled": false
   },
   "outputs": [
    {
     "name": "stdout",
     "output_type": "stream",
     "text": [
      "안녕, 나타샤!\n",
      "안녕, 수빈!\n",
      "안녕, 현수!\n",
      "안녕, 지효!\n",
      "안녕, 방탄소년단!\n",
      "안녕, 여자친구!\n"
     ]
    }
   ],
   "source": [
    "def hello(*names):\n",
    "    \"\"\"가변 인자 name 활용\"\"\"\n",
    "    for each in names:\n",
    "        print('안녕, {}!'.format(each))\n",
    "\n",
    "hello('나타샤')\n",
    "hello('수빈', '현수', '지효')\n",
    "hello(*['방탄소년단', '여자친구'])"
   ]
  },
  {
   "cell_type": "markdown",
   "id": "06bb8c70",
   "metadata": {},
   "source": [
    "7-10"
   ]
  },
  {
   "cell_type": "code",
   "execution_count": 13,
   "id": "ca1a5f02",
   "metadata": {},
   "outputs": [
    {
     "name": "stdout",
     "output_type": "stream",
     "text": [
      "여자친구: 6  마마무: 4  \n",
      "엑소: 9  트와이스: 9  블랙핑크: 4  방탄소년단: 7  \n",
      "에스프레소: 2500  아메리카노: 2800  카페라떼: 3200  \n",
      "brand: 현대  model: 제네시스  year: 2016  \n"
     ]
    }
   ],
   "source": [
    "def mykeyprint(**kwargs):\n",
    "    for key in kwargs:\n",
    "        print('{}: {} '.format(key, kwargs[key]), end = ' ')\n",
    "    print()\n",
    "    \n",
    "mykeyprint(여자친구=6, 마마무=4)\n",
    "mykeyprint(엑소=9, 트와이스=9, 블랙핑크=4, 방탄소년단=7)\n",
    "\n",
    "coffeeprice = {'에스프레소': 2500, '아메리카노': 2800, '카페라떼': 3200}\n",
    "mycar =\t{\"brand\": \"현대\", \"model\": \"제네시스\", \"year\": 2016}\n",
    "mykeyprint(**coffeeprice)\n",
    "mykeyprint(**mycar)"
   ]
  },
  {
   "cell_type": "markdown",
   "id": "390e80a0",
   "metadata": {},
   "source": [
    "7-11"
   ]
  },
  {
   "cell_type": "code",
   "execution_count": 14,
   "id": "189af1d5",
   "metadata": {},
   "outputs": [
    {
     "name": "stdout",
     "output_type": "stream",
     "text": [
      "9000\n",
      "10000\n",
      "10000\n"
     ]
    }
   ],
   "source": [
    "def sumvalue(value, **kwargs):\n",
    "    hap = value\n",
    "    for key in kwargs:\n",
    "        hap += kwargs[key]\n",
    "    return hap\n",
    "    \n",
    "coffeeprice = {'에스프레소': 2000, '아메리카노': 2800, '카페라떼': 3200}\n",
    "print(sumvalue(1000, **coffeeprice))\n",
    "print(sumvalue(value = 2000, **coffeeprice))\n",
    "print(sumvalue(**coffeeprice, value = 2000))"
   ]
  },
  {
   "cell_type": "markdown",
   "id": "761884c1",
   "metadata": {},
   "source": [
    "7-12"
   ]
  },
  {
   "cell_type": "code",
   "execution_count": 15,
   "id": "0d830f5a",
   "metadata": {},
   "outputs": [
    {
     "name": "stdout",
     "output_type": "stream",
     "text": [
      "10006\n",
      "10009\n"
     ]
    }
   ],
   "source": [
    "def sumvalue(*values, **kwargs):\n",
    "    hap = 0\n",
    "    #가변 인자 합 구하기\n",
    "    for v in values:\n",
    "        hap += v\n",
    "    #키워드 인자 합 구하기\n",
    "    for key in kwargs:\n",
    "        hap += kwargs[key]\n",
    "    return hap\n",
    "    \n",
    "coffeeprice = {'value': 2000,'에스프레소': 2000, '아메리카노': 2800, '카페라떼': 3200}\n",
    "print(sumvalue(1, 2, 3, **coffeeprice)) \n",
    "print(sumvalue(*[2, 3, 4], **coffeeprice))"
   ]
  },
  {
   "cell_type": "markdown",
   "id": "08d1ed01",
   "metadata": {},
   "source": [
    "7-13"
   ]
  },
  {
   "cell_type": "code",
   "execution_count": 16,
   "id": "55e4d8da",
   "metadata": {},
   "outputs": [
    {
     "name": "stdout",
     "output_type": "stream",
     "text": [
      "27\n",
      "1\n",
      "5.0\n"
     ]
    }
   ],
   "source": [
    "print((lambda x: x ** 3)(3))\n",
    "print((lambda a, b: a % b)(10, 3))\n",
    "\n",
    "div = lambda a, b: a / b\n",
    "print(div(10, 2))"
   ]
  },
  {
   "cell_type": "markdown",
   "id": "43c9e60f",
   "metadata": {},
   "source": [
    "7-14"
   ]
  },
  {
   "cell_type": "code",
   "execution_count": 17,
   "id": "dd6f6d55",
   "metadata": {},
   "outputs": [
    {
     "name": "stdout",
     "output_type": "stream",
     "text": [
      "['core', 'defining', 'extensible', 'functions.', 'is', 'of', 'programming', 'The']\n",
      "['defining', 'of', 'The', 'core', 'programming', 'is', 'functions.', 'extensible']\n",
      "[('방탄소년단', 7), ('블랙핑크', 4), ('잔나비', 5), ('트와이스', 9)]\n",
      "[('블랙핑크', 4), ('잔나비', 5), ('방탄소년단', 7), ('트와이스', 9)]\n"
     ]
    }
   ],
   "source": [
    "words = \"The core of extensible programming is defining functions.\".split()\n",
    "#각 항목 단어를 모두 소문자로 바꾼 항목을 키로 정렬 \n",
    "print(sorted(words, key = str.lower))\n",
    "#각 항목 단어의 첨자 1, 두 번째 문자를 키로 정렬 \n",
    "print(sorted(words, key = lambda word: word[1])) \n",
    "\n",
    "groupnumber = [('잔나비', 5), ('트와이스', 9), ('블랙핑크', 4), ('방탄소년단', 7)]\n",
    "# 항목의 첫 번째 항목을 키로 정렬 \n",
    "print(sorted(groupnumber))\n",
    "# 항목의 두 번째 항목인 그룹 인원수를 키로 정렬 \n",
    "print(sorted(groupnumber, key = lambda singer: singer[1]))"
   ]
  },
  {
   "cell_type": "markdown",
   "id": "4db1a36c",
   "metadata": {},
   "source": [
    "7-15"
   ]
  },
  {
   "cell_type": "code",
   "execution_count": 18,
   "id": "0b60cfca",
   "metadata": {},
   "outputs": [
    {
     "name": "stdout",
     "output_type": "stream",
     "text": [
      "반지름 3 => 원면적 28.26\n",
      "반지름 5 => 원면적 78.5\n",
      "반지름 7 => 원면적 153.86\n",
      "반지름 10 => 원면적 314.0\n"
     ]
    }
   ],
   "source": [
    "circle = [3, 5, 7, 10]\n",
    "area = list(map(lambda r: r * r * 3.14, circle)) \n",
    "\n",
    "for c, a in zip(circle, area):\n",
    "    print('반지름 {} => 원면적 {}'.format(c, a))"
   ]
  }
 ],
 "metadata": {
  "kernelspec": {
   "display_name": "Python 3 (ipykernel)",
   "language": "python",
   "name": "python3"
  },
  "language_info": {
   "codemirror_mode": {
    "name": "ipython",
    "version": 3
   },
   "file_extension": ".py",
   "mimetype": "text/x-python",
   "name": "python",
   "nbconvert_exporter": "python",
   "pygments_lexer": "ipython3",
   "version": "3.9.7"
  }
 },
 "nbformat": 4,
 "nbformat_minor": 5
}
