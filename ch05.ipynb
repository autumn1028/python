{
 "cells": [
  {
   "cell_type": "markdown",
   "id": "a93963f3",
   "metadata": {},
   "source": [
    "# Chapter05\n",
    "## 프로젝트 Lab1"
   ]
  },
  {
   "cell_type": "code",
   "execution_count": 5,
   "id": "8a5006d3",
   "metadata": {},
   "outputs": [
    {
     "name": "stdout",
     "output_type": "stream",
     "text": [
      "['축구', '야구', '농구', '배구']\n",
      "[11, 9, 5, 6]\n",
      "축구: 11명  야구: 9명  농구: 5명  배구: 6명  \n",
      "\n",
      "[['축구', '야구', '농구', '배구'], [11, 9, 5, 6]]\n",
      "축구: 11명  야구: 9명  농구: 5명  배구: 6명  \n",
      "\n",
      "[['축구', 11], ['야구', 9], ['농구', 5], ['배구', 6]]\n",
      "축구: 11명  야구: 9명  농구: 5명  배구: 6명  \n"
     ]
    }
   ],
   "source": [
    "sports=['축구', '야구', '농구', '배구']\n",
    "#팀원 수 구성\n",
    "num = [11, 9, 5, 6]\n",
    "print(sports)\n",
    "print(num)\n",
    "#두 리스트 출력\n",
    "for i in range(len(sports)):\n",
    "    print('%s: %d명 '% (sports[i], num[i]), end = ' ')\n",
    "print(); print()\n",
    "\n",
    "#2차원 리스트\n",
    "sponum = [sports, num]\n",
    "print(sponum)\n",
    "for i in range(len(sponum[0])):\n",
    "    print('%s: %d명 ' % (sponum[0][i], sponum[1][i]), end = ' ')\n",
    "print(); print()\n",
    "\n",
    "#컴프리헨션\n",
    "psponum = [[sports[i], num[i]] for i in range(len(sports))]\n",
    "print(psponum)\n",
    "for one in psponum:\n",
    "    print('%s: %d명 ' % (one[0], one[1]), end = ' ')\n",
    "print()"
   ]
  },
  {
   "cell_type": "markdown",
   "id": "96abb676",
   "metadata": {},
   "source": [
    "## 프로젝트 Lab2"
   ]
  },
  {
   "cell_type": "code",
   "execution_count": 1,
   "id": "83a99442",
   "metadata": {},
   "outputs": [
    {
     "name": "stdout",
     "output_type": "stream",
     "text": [
      "주문할 콤보 번호와 수량을 계속 입력하세요!\n",
      "\t 0 주문 종료\n",
      "\t 1 올인원팩  6000 원\n",
      "\t 2 투게더팩  7000 원\n",
      "\t 3 트리오팩  8000 원\n",
      "\t 4 패밀리팩 10000 원\n",
      " >> 1 1\n",
      "올인원팩, 1개 주문\n",
      "올인원팩 주문 가격 6000, 총 가격 6000\n",
      "주문할 콤보 번호와 수량을 계속 입력하세요!\n",
      "\t 0 주문 종료\n",
      "\t 1 올인원팩  6000 원\n",
      "\t 2 투게더팩  7000 원\n",
      "\t 3 트리오팩  8000 원\n",
      "\t 4 패밀리팩 10000 원\n",
      " >> 3 2\n",
      "트리오팩, 2개 주문\n",
      "트리오팩 주문 가격 16000, 총 가격 22000\n",
      "주문할 콤보 번호와 수량을 계속 입력하세요!\n",
      "\t 0 주문 종료\n",
      "\t 1 올인원팩  6000 원\n",
      "\t 2 투게더팩  7000 원\n",
      "\t 3 트리오팩  8000 원\n",
      "\t 4 패밀리팩 10000 원\n",
      " >> 0\n",
      "\n",
      "****** 주문 종료 *******\n",
      "총 주문 가격 22000 원\n",
      "주문을 마치겠습니다.\n",
      "======= 안녕! ========\n"
     ]
    }
   ],
   "source": [
    "menu = ('주문 종료', '올인원팩', '투게더팩', '트리오팩', '패밀리팩')\n",
    "price = (0, 6000, 7000, 8000, 10000)\n",
    "\n",
    "msg = '주문할 콤보 번호와 수량을 계속 입력하세요!'\n",
    "for i in range(len(menu)):\n",
    "    msg += '\\n\\t %d %s' % (i, menu[i])\n",
    "    if i != 0:\n",
    "        msg += ' %5d 원' % (price[i])\n",
    "msg += '\\n >> '\n",
    "\n",
    "more = True\n",
    "total = 0\n",
    "while more:\n",
    "    instr = input(msg)\n",
    "    if instr.count(' ') > 0: # 2개의 입력 인지를 검사\n",
    "        # 입력이 2개면 분리해 각각 입력\n",
    "        order, cnt = instr.split()\n",
    "        cnt = int(cnt)\n",
    "    else:\n",
    "        # 입력이 1개이면 주문 번호 입력\n",
    "        order = instr\n",
    "    order = int(order)\n",
    "    if order == 0:\n",
    "        print()\n",
    "        print(' 주문 종료 '.center(20, '*'))\n",
    "        more = False\n",
    "    elif 1 <= order <=4:\n",
    "        print('%s, %d개 주문' % (menu[order], cnt))\n",
    "        sub = price[order] * cnt\n",
    "        total += sub\n",
    "        print('%s 주문 가격 %d, 총 가격 %d' % (menu[order], sub, total))\n",
    "    else:\n",
    "        print('모르겠어요. 다시 주문하세요!')\n",
    "else:\n",
    "    print('총 주문 가격 %d 원' % total)\n",
    "    print('주문을 마치겠습니다.')\n",
    "    print(' 안녕! '.center(20, '='))"
   ]
  },
  {
   "cell_type": "markdown",
   "id": "e1967bd9",
   "metadata": {},
   "source": [
    "## 도전 프로그래밍"
   ]
  },
  {
   "cell_type": "markdown",
   "id": "e23ad19e",
   "metadata": {},
   "source": [
    "01."
   ]
  },
  {
   "cell_type": "code",
   "execution_count": 16,
   "id": "5188cadd",
   "metadata": {},
   "outputs": [
    {
     "name": "stdout",
     "output_type": "stream",
     "text": [
      "리스트 [77, 18, 29, 24, 25, 26, 68, 90, 83, 61]\n",
      "정렬 리스트 [18, 24, 25, 26, 29, 61, 68, 77, 83, 90]\n",
      "역순 리스트 [90, 83, 77, 68, 61, 29, 26, 25, 24, 18]\n"
     ]
    }
   ],
   "source": [
    "import random\n",
    "numbers=[]\n",
    "for i in range(10):\n",
    "    n = random.randint(1,99)\n",
    "    numbers.append(n)\n",
    "print('리스트', numbers)\n",
    "# 정렬\n",
    "numbers.sort()\n",
    "print('정렬 리스트', numbers)\n",
    "\n",
    "# 역순 정렬\n",
    "numbers.reverse()\n",
    "print('역순 리스트', numbers)"
   ]
  },
  {
   "cell_type": "markdown",
   "id": "52357e95",
   "metadata": {},
   "source": [
    "02."
   ]
  },
  {
   "cell_type": "code",
   "execution_count": 6,
   "id": "88ad4d15",
   "metadata": {},
   "outputs": [
    {
     "name": "stdout",
     "output_type": "stream",
     "text": [
      "찾을 단어 입력? 초보자\n"
     ]
    },
    {
     "ename": "TypeError",
     "evalue": "tuple indices must be integers or slices, not str",
     "output_type": "error",
     "traceback": [
      "\u001b[1;31m---------------------------------------------------------------------------\u001b[0m",
      "\u001b[1;31mTypeError\u001b[0m                                 Traceback (most recent call last)",
      "\u001b[1;32mC:\\Users\\Public\\Documents\\ESTsoft\\CreatorTemp/ipykernel_1576/356167061.py\u001b[0m in \u001b[0;36m<module>\u001b[1;34m\u001b[0m\n\u001b[0;32m      4\u001b[0m \u001b[1;32mfor\u001b[0m \u001b[0mi\u001b[0m \u001b[1;32min\u001b[0m \u001b[0mrange\u001b[0m\u001b[1;33m(\u001b[0m\u001b[1;36m1\u001b[0m\u001b[1;33m)\u001b[0m\u001b[1;33m:\u001b[0m\u001b[1;33m\u001b[0m\u001b[1;33m\u001b[0m\u001b[0m\n\u001b[0;32m      5\u001b[0m     \u001b[0mword\u001b[0m \u001b[1;33m=\u001b[0m \u001b[0mi\u001b[0m\u001b[1;33m\u001b[0m\u001b[1;33m\u001b[0m\u001b[0m\n\u001b[1;32m----> 6\u001b[1;33m     \u001b[0mprint\u001b[0m\u001b[1;33m(\u001b[0m\u001b[1;34m'%s'\u001b[0m \u001b[1;33m%\u001b[0m \u001b[1;33m(\u001b[0m\u001b[0menglish\u001b[0m\u001b[1;33m[\u001b[0m\u001b[0m_\u001b[0m\u001b[1;33m]\u001b[0m\u001b[1;33m)\u001b[0m\u001b[1;33m)\u001b[0m\u001b[1;33m\u001b[0m\u001b[1;33m\u001b[0m\u001b[0m\n\u001b[0m\u001b[0;32m      7\u001b[0m     \u001b[1;32mif\u001b[0m \u001b[0mi\u001b[0m \u001b[1;33m!=\u001b[0m \u001b[0mkorean\u001b[0m\u001b[1;33m:\u001b[0m\u001b[1;33m\u001b[0m\u001b[1;33m\u001b[0m\u001b[0m\n\u001b[0;32m      8\u001b[0m         \u001b[0mprint\u001b[0m\u001b[1;33m(\u001b[0m\u001b[1;34m'오류'\u001b[0m\u001b[1;33m)\u001b[0m\u001b[1;33m\u001b[0m\u001b[1;33m\u001b[0m\u001b[0m\n",
      "\u001b[1;31mTypeError\u001b[0m: tuple indices must be integers or slices, not str"
     ]
    }
   ],
   "source": [
    "korean = ('정렬', '초보자', '내포', '사전')\n",
    "english = ('sorting', 'novice', 'comprehension', 'dictonary')\n",
    "word = input('찾을 단어 입력? ')\n",
    "for i in range(1):\n",
    "    word = i\n",
    "    print('%s' % (english[_]))\n",
    "    if i != korean:\n",
    "        print('오류')"
   ]
  },
  {
   "cell_type": "code",
   "execution_count": 4,
   "id": "8b1e6807",
   "metadata": {},
   "outputs": [
    {
     "ename": "TypeError",
     "evalue": "int() takes at most 2 arguments (4 given)",
     "output_type": "error",
     "traceback": [
      "\u001b[1;31m---------------------------------------------------------------------------\u001b[0m",
      "\u001b[1;31mTypeError\u001b[0m                                 Traceback (most recent call last)",
      "\u001b[1;32mC:\\Users\\Public\\Documents\\ESTsoft\\CreatorTemp/ipykernel_4928/2299710249.py\u001b[0m in \u001b[0;36m<module>\u001b[1;34m\u001b[0m\n\u001b[1;32m----> 1\u001b[1;33m \u001b[0mkorean\u001b[0m \u001b[1;33m=\u001b[0m \u001b[0mint\u001b[0m\u001b[1;33m(\u001b[0m\u001b[1;34m'정렬'\u001b[0m\u001b[1;33m,\u001b[0m \u001b[1;34m'초보자'\u001b[0m\u001b[1;33m,\u001b[0m \u001b[1;34m'내포'\u001b[0m\u001b[1;33m,\u001b[0m \u001b[1;34m'사전'\u001b[0m\u001b[1;33m)\u001b[0m\u001b[1;33m\u001b[0m\u001b[1;33m\u001b[0m\u001b[0m\n\u001b[0m\u001b[0;32m      2\u001b[0m \u001b[0menglish\u001b[0m \u001b[1;33m=\u001b[0m \u001b[0mint\u001b[0m\u001b[1;33m(\u001b[0m\u001b[1;34m'sorting'\u001b[0m\u001b[1;33m,\u001b[0m \u001b[1;34m'novice'\u001b[0m\u001b[1;33m,\u001b[0m \u001b[1;34m'comprehension'\u001b[0m\u001b[1;33m,\u001b[0m \u001b[1;34m'dictonary'\u001b[0m\u001b[1;33m)\u001b[0m\u001b[1;33m\u001b[0m\u001b[1;33m\u001b[0m\u001b[0m\n\u001b[0;32m      3\u001b[0m \u001b[0mword\u001b[0m \u001b[1;33m=\u001b[0m \u001b[0minput\u001b[0m\u001b[1;33m(\u001b[0m\u001b[1;34m'찾을 단어 입력? '\u001b[0m\u001b[1;33m)\u001b[0m\u001b[1;33m\u001b[0m\u001b[1;33m\u001b[0m\u001b[0m\n\u001b[0;32m      4\u001b[0m \u001b[1;32mwhile\u001b[0m \u001b[1;32mTrue\u001b[0m\u001b[1;33m:\u001b[0m\u001b[1;33m\u001b[0m\u001b[1;33m\u001b[0m\u001b[0m\n\u001b[0;32m      5\u001b[0m     \u001b[0mword\u001b[0m \u001b[1;33m=\u001b[0m \u001b[0mi\u001b[0m\u001b[1;33m\u001b[0m\u001b[1;33m\u001b[0m\u001b[0m\n",
      "\u001b[1;31mTypeError\u001b[0m: int() takes at most 2 arguments (4 given)"
     ]
    }
   ],
   "source": [
    "korean = ('정렬', '초보자', '내포', '사전')\n",
    "english = ('sorting', 'novice', 'comprehension', 'dictonary')\n",
    "word = input('찾을 단어 입력? ')\n",
    "while True:\n",
    "    word = i\n",
    "    english.index() == korean.index()\n",
    "    print('%s' % (english[_]))"
   ]
  },
  {
   "cell_type": "markdown",
   "id": "0e215902",
   "metadata": {},
   "source": [
    "03"
   ]
  },
  {
   "cell_type": "code",
   "execution_count": 2,
   "id": "0fde2f6d",
   "metadata": {},
   "outputs": [
    {
     "name": "stdout",
     "output_type": "stream",
     "text": [
      "+012345678901 \n",
      " HelloPython!\n",
      "-210987654321\n",
      "슬라이스[?:?:?] 3개 입력 >> 1 3 5\n",
      "e l P\n",
      "슬라이스[?:?:?] 3개 입력 >> -1 -2 -9\n",
      "! n l\n",
      "슬라이스[?:?:?] 3개 입력 >> 0 0 0\n",
      "*********종료*********\n"
     ]
    }
   ],
   "source": [
    "posnum = '+012345678901'\n",
    "word = 'HelloPython!'\n",
    "negnum = '-210987654321'\n",
    "\n",
    "print(posnum, '\\n', word)\n",
    "print(negnum)\n",
    "\n",
    "while True:\n",
    "    a, b, c = map(int, input('슬라이스[?:?:?] 3개 입력 >> ').split())\n",
    "    if (a==0 and b==0 and c==0):\n",
    "        print('종료'.center(20,'*'))\n",
    "        break\n",
    "    else:\n",
    "        print(word[a], word[b], word[c])"
   ]
  },
  {
   "cell_type": "code",
   "execution_count": 1,
   "id": "03556237",
   "metadata": {},
   "outputs": [
    {
     "name": "stdout",
     "output_type": "stream",
     "text": [
      "+012345678901 \n",
      " HelloPython!\n",
      "-210987654321\n",
      "슬라이스[?:?:?] 3개 입력 >> 1 8 10\n",
      "e h n\n",
      "슬라이스[?:?:?] 3개 입력 >> -2 -1 -8\n",
      "n ! o\n",
      "슬라이스[?:?:?] 3개 입력 >> 0 0 0\n",
      "*********종료*********\n"
     ]
    }
   ],
   "source": [
    "posnum = '+012345678901'\n",
    "word = 'HelloPython!'\n",
    "negnum = '-210987654321'\n",
    "\n",
    "print(posnum, '\\n', word)\n",
    "print(negnum)\n",
    "\n",
    "for i in range(10):\n",
    "    a, b, c = map(int, input('슬라이스[?:?:?] 3개 입력 >> ').split())\n",
    "    if (a==0 and b==0 and c==0):\n",
    "        print('종료'.center(20,'*'))\n",
    "        break\n",
    "    else:\n",
    "        print(word[a], word[b], word[c])"
   ]
  },
  {
   "cell_type": "markdown",
   "id": "a09c1f88",
   "metadata": {},
   "source": [
    "04"
   ]
  },
  {
   "cell_type": "code",
   "execution_count": 7,
   "id": "77850a9b",
   "metadata": {},
   "outputs": [
    {
     "name": "stdout",
     "output_type": "stream",
     "text": [
      "각 행의 합: [6, 15, 24]\n",
      "각 열의 합: [12, 15, 18]\n"
     ]
    }
   ],
   "source": [
    "data = [[1, 2, 3], \n",
    "        [4, 5, 6], \n",
    "        [7, 8, 9]]\n",
    "rsum1 = data[0][0] + data[0][1] + data[0][2]\n",
    "rsum2 = data[1][0] + data[1][1] + data[1][2]\n",
    "rsum3 = data[2][0] + data[2][1] + data[2][2]\n",
    "\n",
    "csum1 = data[0][0] + data[1][0] + data[2][0]\n",
    "csum2 = data[0][1] + data[1][1] + data[2][1]\n",
    "csum3 = data[0][2] + data[1][2] + data[2][2]\n",
    "\n",
    "rsum = [rsum1, rsum2, rsum3]\n",
    "csum = [csum1, csum2, csum3]\n",
    "print('각 행의 합:', rsum)\n",
    "print('각 열의 합:', csum)"
   ]
  },
  {
   "cell_type": "markdown",
   "id": "28fb7d03",
   "metadata": {},
   "source": [
    "05"
   ]
  },
  {
   "cell_type": "code",
   "execution_count": 19,
   "id": "610a02d2",
   "metadata": {},
   "outputs": [
    {
     "name": "stdout",
     "output_type": "stream",
     "text": [
      "['축구', 11, '야구', 9, ' 농구', 5, '배구', 6]\n",
      "['축구', '', '야구', '', ' 농구', '', '배구', '']\n",
      "['축구', 11, '야구', 9, ' 농구', 5, '배구', 6]\n"
     ]
    }
   ],
   "source": [
    "sports = ['축구', '야구', ' 농구', '배구']\n",
    "num = [11, 9, 5, 6]\n",
    "# 메소드 insert()로 팀원 수 삽입\n",
    "sports.insert(1, 11)\n",
    "sports.insert(3, 9)\n",
    "sports.insert(5, 5)\n",
    "sports.insert(7, 6)\n",
    "print(sports)\n",
    "del sports[1:8:2] #삽입한 숫자 삭제\n",
    "# 메소드 insert()로 '' 삽입\n",
    "sports.insert(1, '')\n",
    "sports.insert(3, '')\n",
    "sports.insert(5, '')\n",
    "sports.insert(7, '')\n",
    "print(sports)\n",
    "# 슬라이스 sports[1::2]에 num을 대입\n",
    "sports[1:8:2] = num\n",
    "print(sports)"
   ]
  },
  {
   "cell_type": "markdown",
   "id": "d82ecf02",
   "metadata": {},
   "source": [
    "06"
   ]
  },
  {
   "cell_type": "code",
   "execution_count": 4,
   "id": "aaec9e2d",
   "metadata": {},
   "outputs": [
    {
     "name": "stdout",
     "output_type": "stream",
     "text": [
      "원 행렬(m) 출력: \n",
      "[1, 2]\n",
      "[3, 4]\n",
      "[5, 6]\n",
      "[7, 8]\n",
      "\n",
      "전치 행렬 출력: \n",
      "(1, 3, 5, 7)\n",
      "(2, 4, 6, 8)\n"
     ]
    }
   ],
   "source": [
    "#원 행렬 출력\n",
    "m = [[1, 2], [3, 4], [5, 6], [7, 8]]\n",
    "print('원 행렬(m) 출력: ')\n",
    "for i in m:\n",
    "    print(i)\n",
    "print()\n",
    "    \n",
    "#행과 열 바꿈\n",
    "m = list(zip(*m))\n",
    "print('전치 행렬 출력: ')\n",
    "for i in m:\n",
    "    print(i, end = '')\n",
    "    print()"
   ]
  },
  {
   "cell_type": "code",
   "execution_count": 38,
   "id": "f98e2a4a",
   "metadata": {},
   "outputs": [
    {
     "name": "stdout",
     "output_type": "stream",
     "text": [
      "원 행렬(m) 출력: \n",
      "[1, 2]\n",
      "[3, 4]\n",
      "[5, 6]\n",
      "[7, 8]\n",
      "\n"
     ]
    }
   ],
   "source": [
    "m = [[1, 2], [3, 4], [5, 6], [7, 8]]\n",
    "print('원 행렬(m) 출력: ')\n",
    "for i in m:\n",
    "    print(i)\n",
    "print()"
   ]
  },
  {
   "cell_type": "code",
   "execution_count": 29,
   "id": "f9c802b9",
   "metadata": {},
   "outputs": [
    {
     "name": "stdout",
     "output_type": "stream",
     "text": [
      "원 행렬(m) 출력: \n",
      "[1, 2]\n",
      "[3, 4]\n",
      "[5, 6]\n",
      "[7, 8]\n",
      "전치 행렬 출력: \n",
      "1357\n",
      "2468\n"
     ]
    }
   ],
   "source": [
    "#원 행렬 출력\n",
    "m = [[1, 2], [3, 4], [5, 6], [7, 8]]\n",
    "print('원 행렬(m) 출력: ')\n",
    "for i in m:\n",
    "    print(i, end = '')\n",
    "    print()\n",
    "\n",
    "#행과 열 바꿈\n",
    "print('전치 행렬 출력: ')\n",
    "\n",
    "for i in range(len(m[0])):\n",
    "    for row in m:\n",
    "        print(row[i], end = '')\n",
    "    print()\n"
   ]
  },
  {
   "cell_type": "code",
   "execution_count": 14,
   "id": "4a523766",
   "metadata": {},
   "outputs": [
    {
     "name": "stdout",
     "output_type": "stream",
     "text": [
      "전치 행렬 출력: \n",
      "1357\n",
      "2468\n"
     ]
    }
   ],
   "source": [
    "m = [[1, 2], [3, 4], [5, 6], [7, 8]]\n",
    "print('전치 행렬 출력: ')\n",
    "\n",
    "for i in range(len(m[0])):\n",
    "    for row in m:\n",
    "        print(row[i], end = '')\n",
    "    print()"
   ]
  },
  {
   "cell_type": "markdown",
   "id": "e567aaaf",
   "metadata": {},
   "source": [
    "07"
   ]
  },
  {
   "cell_type": "code",
   "execution_count": 14,
   "id": "589a73b7",
   "metadata": {},
   "outputs": [
    {
     "name": "stdout",
     "output_type": "stream",
     "text": [
      "[[1, 3, 5, 7], [2, 4, 6, 8]]\n",
      "\n",
      "[1, 3, 5, 7]\n",
      "[2, 4, 6, 8]\n"
     ]
    }
   ],
   "source": [
    "m = [[1, 2], [3, 4], [5, 6], [7, 8]]\n",
    "transpose = [[row[i] for row in m] for i in range(len(m[0]))]\n",
    "print(transpose)\n",
    "print()\n",
    "\n",
    "for i in transpose:\n",
    "    print(i)"
   ]
  },
  {
   "cell_type": "markdown",
   "id": "cfb95fec",
   "metadata": {},
   "source": [
    "08"
   ]
  },
  {
   "cell_type": "code",
   "execution_count": 33,
   "id": "787b3dec",
   "metadata": {},
   "outputs": [
    {
     "name": "stdout",
     "output_type": "stream",
     "text": [
      "리스트: [35, 97, 94, 79, 73, 27, 68, 89, 55, 82]\n",
      "튜플: (35, 97, 94, 79, 73, 27, 68, 89, 55, 82)\n",
      "튜플 정렬된 리스트: [27, 35, 55, 68, 73, 79, 82, 89, 94, 97]\n",
      "\n",
      "합: 699 항목수: 10\n",
      "최대: 97 최소: 27 평균: 69.90\n"
     ]
    }
   ],
   "source": [
    "import random\n",
    "a_list = []\n",
    "for i in range(10):\n",
    "    n = random.randint(1,99)\n",
    "    a_list.append(n)\n",
    "print('리스트:', a_list)\n",
    "\n",
    "a_tup = tuple(a_list)\n",
    "print('튜플:', a_tup)\n",
    "\n",
    "a_sort = sorted(a_tup)\n",
    "a_list = list(a_sort)\n",
    "print('튜플 정렬된 리스트:', a_list)\n",
    "print()\n",
    "\n",
    "a_sum = sum(a_list)\n",
    "average = a_sum / len(a_list)\n",
    "print('합: {}'.format(a_sum), '항목수:', len(a_list))\n",
    "print('최대:', max(a_list), '최소:', min(a_list), '평균: %.2f' % average)"
   ]
  }
 ],
 "metadata": {
  "kernelspec": {
   "display_name": "Python 3 (ipykernel)",
   "language": "python",
   "name": "python3"
  },
  "language_info": {
   "codemirror_mode": {
    "name": "ipython",
    "version": 3
   },
   "file_extension": ".py",
   "mimetype": "text/x-python",
   "name": "python",
   "nbconvert_exporter": "python",
   "pygments_lexer": "ipython3",
   "version": "3.9.7"
  }
 },
 "nbformat": 4,
 "nbformat_minor": 5
}
