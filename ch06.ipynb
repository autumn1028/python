{
 "cells": [
  {
   "cell_type": "markdown",
   "id": "2574c13a",
   "metadata": {},
   "source": [
    "# chapter6\n",
    "## 프로젝트 Lab1"
   ]
  },
  {
   "cell_type": "code",
   "execution_count": 3,
   "id": "e07c879e",
   "metadata": {},
   "outputs": [
    {
     "name": "stdout",
     "output_type": "stream",
     "text": [
      "******************\n",
      "철수   영희   승자  \n",
      "******************\n",
      "바위   보오   영희  \n",
      "가위   바위   영희  \n",
      "가위   가위   비김  \n",
      "보오   보오   비김  \n",
      "바위   가위   철수  \n",
      "가위   바위   영희  \n",
      "가위   보오   철수  \n",
      "가위   보오   철수  \n",
      "바위   가위   철수  \n",
      "바위   보오   영희  \n"
     ]
    }
   ],
   "source": [
    "from random import choice\n",
    "dcs = {'가위':'보오', '바위':'가위', '보오':'바위'}\n",
    "tit = ['비김', '철수', '영희', '승자']\n",
    "rsp = ('가위', '바위', '보오')\n",
    "print('*'*18)\n",
    "print('{:4} {:4} {:4}'.format(tit[1], tit[2], tit[3]))\n",
    "print('*'*18)\n",
    "\n",
    "for _ in range(10):\n",
    "    cs = choice(rsp)\n",
    "    yh = choice(rsp)\n",
    "    print('{:4} {:4}'.format(cs, yh), end = ' ')\n",
    "    \n",
    "    if cs == yh:\n",
    "        index = 0\n",
    "    elif dcs[cs]== yh:\n",
    "        index = 1\n",
    "    else:\n",
    "        index = 2\n",
    "    print('{:4}'.format(tit[index]))"
   ]
  },
  {
   "cell_type": "markdown",
   "id": "3b71b83d",
   "metadata": {},
   "source": [
    "## 프로젝트 Lab2"
   ]
  },
  {
   "cell_type": "code",
   "execution_count": 4,
   "id": "5a827225",
   "metadata": {},
   "outputs": [
    {
     "name": "stdout",
     "output_type": "stream",
     "text": [
      "[('BTS', '작은 것들을 위한 시'), ('볼빨간사춘기', '나만 봄'), ('BTS', '소우주'), ('블랙핑크', 'Kill This Love'), ('태연', '사계')]\n",
      "{1: ('BTS', '작은 것들을 위한 시'), 2: ('볼빨간사춘기', '나만 봄'), 3: ('BTS', '소우주'), 4: ('블랙핑크', 'Kill This Love'), 5: ('태연', '사계')}\n",
      "\n",
      "{1: ('BTS', '작은 것들을 위한 시'),\n",
      " 2: ('볼빨간사춘기', '나만 봄'),\n",
      " 3: ('BTS', '소우주'),\n",
      " 4: ('블랙핑크', 'Kill This Love'),\n",
      " 5: ('태연', '사계')}\n"
     ]
    }
   ],
   "source": [
    "singer = ['BTS', '볼빨간사춘기', 'BTS', '블랙핑크', '태연', 'BTS']\n",
    "song = ['작은 것들을 위한 시', '나만 봄', '소우주', 'Kill This Love', '사계']\n",
    "\n",
    "kpop = list(zip(singer, song))\n",
    "print(kpop)\n",
    "kpchart = dict(enumerate(kpop, start = 1))\n",
    "print(kpchart)\n",
    "print()\n",
    "\n",
    "import pprint\n",
    "pprint.pprint(kpchart)"
   ]
  },
  {
   "cell_type": "markdown",
   "id": "f7638249",
   "metadata": {},
   "source": [
    "## 도전 프로그래밍"
   ]
  },
  {
   "cell_type": "markdown",
   "id": "86925eba",
   "metadata": {},
   "source": [
    "01"
   ]
  },
  {
   "cell_type": "code",
   "execution_count": 7,
   "id": "92c31e20",
   "metadata": {},
   "outputs": [
    {
     "name": "stdout",
     "output_type": "stream",
     "text": [
      "이름 : 김영희\n",
      "전화번호 : 010-3017-4468\n",
      "성별 : 여자\n",
      "나이 : 22\n",
      "대학교 : 한국대학교\n"
     ]
    }
   ],
   "source": [
    "data = {'이름':'김영희', '전화번호':'010-3017-4468', '성별':'여자', '나이':'22', '대학교':'한국대학교'}\n",
    "\n",
    "for key in data.keys():\n",
    "    print('%s : %s' % (key, data[key]))"
   ]
  },
  {
   "cell_type": "markdown",
   "id": "23af6b68",
   "metadata": {},
   "source": [
    "02"
   ]
  },
  {
   "cell_type": "code",
   "execution_count": 2,
   "id": "93cd6875",
   "metadata": {},
   "outputs": [
    {
     "name": "stdout",
     "output_type": "stream",
     "text": [
      "주식 이름? 골프존\n",
      "골프존 : 215000\n",
      "\n",
      "주식 이름? 삼성전자\n",
      "삼성전자 : 47000\n",
      "\n",
      "주식 이름? 현대\n",
      "주식 이름이 없습니다.\n"
     ]
    }
   ],
   "source": [
    "data = {'삼성에스디에스':242000, '삼성전자':47000, '엔씨소프트':52600, '핸디소프트':5120, '골프존':215000, '기아':56300}\n",
    "\n",
    "while True:\n",
    "    user = input('주식 이름? ')\n",
    "    if user in data:\n",
    "        print(user, ':', data[user])\n",
    "        print()\n",
    "    else:\n",
    "        break\n",
    "print('주식 이름이 없습니다.')"
   ]
  },
  {
   "cell_type": "markdown",
   "id": "868939c3",
   "metadata": {},
   "source": [
    "03"
   ]
  },
  {
   "cell_type": "code",
   "execution_count": 10,
   "id": "b55dcf6e",
   "metadata": {},
   "outputs": [
    {
     "name": "stdout",
     "output_type": "stream",
     "text": [
      "책 이름: 파이썬 개론, 저자: ['강환수']\n",
      "책 이름: Perfect C, 저자: ['강한수', '이동규']\n",
      "책 이름: 컴퓨터 개론, 저자: ['강환수', '조진형', '신용현']\n"
     ]
    }
   ],
   "source": [
    "books = {'파이썬 개론':['강환수'],\n",
    "         'Perfect C':['강한수', '이동규'], \n",
    "         '컴퓨터 개론':['강환수', '조진형', '신용현']}\n",
    "for k, v in books.items():\n",
    "    print(f'책 이름: {k}, 저자: {v}')"
   ]
  },
  {
   "cell_type": "markdown",
   "id": "6735dd2e",
   "metadata": {},
   "source": [
    "04"
   ]
  },
  {
   "cell_type": "code",
   "execution_count": 23,
   "id": "444f5b35",
   "metadata": {},
   "outputs": [
    {
     "name": "stdout",
     "output_type": "stream",
     "text": [
      "******************\n",
      "철수   영희   승자  \n",
      "******************\n",
      "가위   가위   비김   1\n",
      "가위   바위   영희   1\n",
      "바위   보오   영희   2\n",
      "바위   바위   비김   2\n",
      "가위   가위   비김   3\n",
      "가위   가위   비김   4\n",
      "바위   가위   철수   1\n",
      "가위   바위   영희   3\n",
      "가위   가위   비김   5\n",
      "가위   바위   영희   4\n",
      "바위   보오   영희   5\n",
      "가위   보오   철수   2\n",
      "가위   가위   비김   6\n",
      "바위   바위   비김   7\n",
      "가위   바위   영희   6\n",
      "가위   보오   철수   3\n",
      "보오   바위   철수   4\n",
      "바위   보오   영희   7\n",
      "보오   보오   비김   8\n",
      "가위   보오   철수   5\n",
      "\n",
      "총 게임 횟수: 20 비긴 횟수: 8\n",
      "철수 승률: 0.42\n",
      "영희 승률: 0.58\n"
     ]
    }
   ],
   "source": [
    "from random import choice\n",
    "dcs = {'가위':'보오', '바위':'가위', '보오':'바위'}\n",
    "tit = ['비김', '철수', '영희', '승자']\n",
    "rsp = ('가위', '바위', '보오')\n",
    "print('*'*18)\n",
    "print('{:4} {:4} {:4}'.format(tit[1], tit[2], tit[3]))\n",
    "print('*'*18)\n",
    "\n",
    "count_game = 0\n",
    "count_cs = 0\n",
    "count_yh = 0\n",
    "count_draw = 0\n",
    "\n",
    "for _ in range(20):\n",
    "    cs = choice(rsp)\n",
    "    yh = choice(rsp)\n",
    "    print('{:4} {:4}'.format(cs, yh), end = ' ')\n",
    "    count_game += 1\n",
    "    \n",
    "    if cs == yh:\n",
    "        index = 0\n",
    "        count_draw += 1\n",
    "        print('{:4}'.format(tit[index]), '{}'.format(count_draw))\n",
    "    elif dcs[cs]== yh:\n",
    "        index = 1\n",
    "        count_cs += 1\n",
    "        print('{:4}'.format(tit[index]), '{}'.format(count_cs))\n",
    "    else:\n",
    "        index = 2\n",
    "        count_yh += 1\n",
    "        print('{:4}'.format(tit[index]), '{}'.format(count_yh))\n",
    "print()\n",
    "        \n",
    "win_cs = count_cs / (count_game - count_draw)\n",
    "win_yh = count_yh / (count_game - count_draw)\n",
    "    \n",
    "print('총 게임 횟수: {}'.format(count_game), '비긴 횟수: {}'.format(count_draw))\n",
    "print('철수 승률: %.2f' % win_cs)\n",
    "print('영희 승률: %.2f' % win_yh)"
   ]
  },
  {
   "cell_type": "markdown",
   "id": "48ef5026",
   "metadata": {},
   "source": [
    "05"
   ]
  },
  {
   "cell_type": "code",
   "execution_count": 12,
   "id": "60ffed8e",
   "metadata": {},
   "outputs": [
    {
     "name": "stdout",
     "output_type": "stream",
     "text": [
      "1 apple 가격: 1000\n",
      "2 banana 가격: 500\n",
      "3 grapes 가격: 1200\n",
      "4 pear 가격: 1500\n"
     ]
    }
   ],
   "source": [
    "fruits = ['apple', 'banana', 'grapes', 'pear']\n",
    "prices = (1000, 500, 1200, 1500)\n",
    "\n",
    "fruits_dic = dict(zip(fruits, prices))\n",
    "\n",
    "for num, dic in enumerate(fruits_dic, 1):\n",
    "    print(num, dic,'가격:', fruits_dic[dic])"
   ]
  },
  {
   "cell_type": "markdown",
   "id": "3f3ccfc6",
   "metadata": {},
   "source": [
    "06"
   ]
  },
  {
   "cell_type": "code",
   "execution_count": 2,
   "id": "0acca6a7",
   "metadata": {},
   "outputs": [
    {
     "name": "stdout",
     "output_type": "stream",
     "text": [
      "A = {2, 9, 10, 14, 17}\n",
      "B = {2, 4, 5, 13, 16}\n",
      "\n",
      "A | B = {2, 4, 5, 9, 10, 13, 14, 16, 17}\n",
      "A & B = {2}\n",
      "A - B = {9, 10, 14, 17}\n",
      "A ^ B = {4, 5, 9, 10, 13, 14, 16, 17}\n"
     ]
    }
   ],
   "source": [
    "from random import sample\n",
    "\n",
    "A = set(sample(list(range(1, 21)), 5))\n",
    "B = set(sample(list(range(1, 21)), 5))\n",
    "\n",
    "print('A = {}'.format(A))\n",
    "print('B = {}'.format(B))\n",
    "print()\n",
    "print('A | B = {}'.format(A | B))\n",
    "print('A & B = {}'.format(A & B))\n",
    "print('A - B = {}'.format(A - B))\n",
    "print('A ^ B = {}'.format(A ^ B))"
   ]
  }
 ],
 "metadata": {
  "kernelspec": {
   "display_name": "Python 3 (ipykernel)",
   "language": "python",
   "name": "python3"
  },
  "language_info": {
   "codemirror_mode": {
    "name": "ipython",
    "version": 3
   },
   "file_extension": ".py",
   "mimetype": "text/x-python",
   "name": "python",
   "nbconvert_exporter": "python",
   "pygments_lexer": "ipython3",
   "version": "3.9.7"
  }
 },
 "nbformat": 4,
 "nbformat_minor": 5
}
