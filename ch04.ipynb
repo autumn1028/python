{
 "cells": [
  {
   "cell_type": "markdown",
   "id": "81a9827d",
   "metadata": {},
   "source": [
    "# chapter4\n",
    "## 프로젝트 Lab1"
   ]
  },
  {
   "cell_type": "markdown",
   "id": "4080ba46",
   "metadata": {},
   "source": [
    "1~10 사이 수 맞추기"
   ]
  },
  {
   "cell_type": "code",
   "execution_count": 1,
   "id": "2813b8a1",
   "metadata": {},
   "outputs": [
    {
     "name": "stdout",
     "output_type": "stream",
     "text": [
      "1에서 10 사이의 수를 맞히세요 >> 4\n",
      "4보다 더 작은 수로 다시 입력 >> \n",
      "<class 'str'>3\n",
      "축하합니다! 3 정답입니다!\n",
      "************* 종료 *************\n"
     ]
    }
   ],
   "source": [
    "import random\n",
    "answer = random.randint(1,10)\n",
    "indata = int(input('1에서 10 사이의 수를 맞히세요 >> '))\n",
    "while True:\n",
    "    if indata == answer:\n",
    "        print('축하합니다! {} 정답입니다!'.format(indata))\n",
    "        break;\n",
    "    elif indata < answer:\n",
    "        print('{}보다 더 큰 수로 다시 입력 >> '.format(indata))\n",
    "    else:\n",
    "        print('{}보다 더 작은 수로 다시 입력 >> '.format(indata))\n",
    "    indata = int(input(str)) # 이거 이해 안 가네\n",
    "\n",
    "print(' 종료 '.center(30,'*'))"
   ]
  },
  {
   "cell_type": "markdown",
   "id": "b674b9cb",
   "metadata": {},
   "source": [
    "## 프로젝트 Lab2"
   ]
  },
  {
   "cell_type": "markdown",
   "id": "7b6b6d56",
   "metadata": {},
   "source": [
    "커피 주문 가격 표시"
   ]
  },
  {
   "cell_type": "code",
   "execution_count": 13,
   "id": "706145fa",
   "metadata": {},
   "outputs": [
    {
     "name": "stdout",
     "output_type": "stream",
     "text": [
      "Coffee menu!\n",
      "    1. 아메리카노     2000\n",
      "    2. 카페라테       2500\n",
      "    3. 카푸치노       3000\n",
      "    4. 캐러멜마키아또 4000\n",
      "    0. 주문 종료\n",
      "종류 >> 2\n",
      "수량 >> 3\n",
      "\n",
      "카페라떼 3개 주문\n",
      "총 주문 가격: 7500원\n",
      "======= 안녕! ========\n",
      "Coffee menu!\n",
      "    1. 아메리카노     2000\n",
      "    2. 카페라테       2500\n",
      "    3. 카푸치노       3000\n",
      "    4. 캐러멜마키아또 4000\n",
      "    0. 주문 종료\n",
      "종류 >> 4\n",
      "수량 >> 2\n",
      "\n",
      "캐러멜마키아또 2개 주문\n",
      "총 주문 가격: 15500원\n",
      "======= 안녕! ========\n",
      "Coffee menu!\n",
      "    1. 아메리카노     2000\n",
      "    2. 카페라테       2500\n",
      "    3. 카푸치노       3000\n",
      "    4. 캐러멜마키아또 4000\n",
      "    0. 주문 종료\n",
      "종류 >> 0\n",
      "\n",
      "******주문 종료*******\n"
     ]
    }
   ],
   "source": [
    "menu = '''Coffee menu!\n",
    "    1. 아메리카노     2000\n",
    "    2. 카페라테       2500\n",
    "    3. 카푸치노       3000\n",
    "    4. 캐러멜마키아또 4000\n",
    "    0. 주문 종료\n",
    "종류 >> '''\n",
    "\n",
    "total = 0\n",
    "while True:\n",
    "    order = int(input(menu))\n",
    "    if order == 0:\n",
    "        print()\n",
    "        print('주문 종료'. center(18, '*'))\n",
    "        break\n",
    "    else:\n",
    "        count = int(input('수량 >> '))\n",
    "        if order == 1:\n",
    "            total += count * 2000\n",
    "            print('\\n%s %d개 주문' % ('아메리카노', count))\n",
    "        elif order == 2:\n",
    "            total += count * 2500\n",
    "            print('\\n%s %d개 주문' % ('카페라떼', count))\n",
    "        elif order == 3:\n",
    "            total += count * 3000\n",
    "            print('\\n%s %d개 주문' % ('cafucino', count))\n",
    "        elif order == 4:\n",
    "            total += count * 4000\n",
    "            print('\\n%s %d개 주문' % ('캐러멜마키아또', count))\n",
    "        else:\n",
    "            print('오류')\n",
    "            print('현재 주문 가격: %d원' % total)\n",
    "            print()\n",
    "            \n",
    "    print('총 주문 가격: %d원' % total)\n",
    "    print(' 안녕! '.center(20, '='))"
   ]
  },
  {
   "cell_type": "markdown",
   "id": "0bd17b1b",
   "metadata": {},
   "source": [
    "## 프로젝트 Lab3"
   ]
  },
  {
   "cell_type": "markdown",
   "id": "ec0e90af",
   "metadata": {},
   "source": [
    "1개월 달력 출력"
   ]
  },
  {
   "cell_type": "code",
   "execution_count": 12,
   "id": "8ed77c3c",
   "metadata": {},
   "outputs": [
    {
     "name": "stdout",
     "output_type": "stream",
     "text": [
      "한 달 최대 일수 입력 >> 31\n",
      "첫 날 1일의 시작 요일을 입력(0=일, 1=월, ... 6=토) >> 4\n",
      "\n",
      " 일 월 화 수 목 금 토 \n",
      "\n",
      "             1  2  3 \n",
      " 4  5  6  7  8  9 10 \n",
      "11 12 13 14 15 16 17 \n",
      "18 19 20 21 22 23 24 \n",
      "25 26 27 28 29 30 31 \n",
      "\n"
     ]
    }
   ],
   "source": [
    "dates = int(input('한 달 최대 일수 입력 >> '))\n",
    "day = int(input('첫 날 1일의 시작 요일을 입력(0=일, 1=월, ... 6=토) >> '))\n",
    "day % 7 # 7이 넘어가면 재설정\n",
    "# 요일 설정\n",
    "print('\\n', end= ' ')\n",
    "for i in '일월화수목금토':\n",
    "    print('%s' % i, end= ' ')\n",
    "else:\n",
    "    print('\\n')\n",
    "cnt = 0\n",
    "# 빈 날짜 출력\n",
    "if day != 0:\n",
    "    print('   ' * day, end = '')\n",
    "    cnt += day\n",
    "    \n",
    "# 1일부터 말일까지 출력\n",
    "for i in range(1, dates+1):\n",
    "    print('%2d' % i, end= ' ')\n",
    "    cnt += 1\n",
    "    if cnt % 7 == 0: # 1주가 모두 출력되면 다음 줄에서 출력\n",
    "        print()\n",
    "else:\n",
    "    print()"
   ]
  },
  {
   "cell_type": "markdown",
   "id": "ad0c2fac",
   "metadata": {},
   "source": [
    "## 도전 프로그래밍"
   ]
  },
  {
   "cell_type": "markdown",
   "id": "dace4efb",
   "metadata": {},
   "source": [
    "01"
   ]
  },
  {
   "cell_type": "code",
   "execution_count": 11,
   "id": "77d1a894",
   "metadata": {},
   "outputs": [
    {
     "name": "stdout",
     "output_type": "stream",
     "text": [
      "월 입력? 9\n",
      "9월 가을\n"
     ]
    }
   ],
   "source": [
    "month = int(input('월 입력? '))\n",
    "if 3 <= month <= 5:\n",
    "    print('%d월 봄' % month)\n",
    "elif 6 <= month <= 8:\n",
    "    print('%d월 여름'% month)\n",
    "elif 9 <=month <= 10 :\n",
    "    print('%d월 가을'% month)\n",
    "elif 11 <=month <= 12 or 1 <=month <= 2:\n",
    "    print('%d월 겨울'% month)\n",
    "else:\n",
    "    print('오류')"
   ]
  },
  {
   "cell_type": "markdown",
   "id": "86fd1018",
   "metadata": {},
   "source": [
    "02"
   ]
  },
  {
   "cell_type": "code",
   "execution_count": 21,
   "id": "b53cc7da",
   "metadata": {},
   "outputs": [
    {
     "name": "stdout",
     "output_type": "stream",
     "text": [
      "근로 시간 48시간, 주급 624000\n",
      "근로 시간 40시간, 주급 480000\n",
      "근로 시간 37시간, 주급 444000\n",
      "근로 시간 35시간, 주급 420000\n",
      "근로 시간 45시간, 주급 570000\n"
     ]
    }
   ],
   "source": [
    "import random\n",
    "for i in range(5):\n",
    "    h = random.randint(35, 50)\n",
    "    if h >= 40: # 40시간 이상 근무\n",
    "        p = int(40 * 12000 + (h - 40) * 12000 * 1.5)\n",
    "    else:\n",
    "        p = h * 12000\n",
    "    print('근로 시간 {}시간, 주급 {}'.format(h,p))"
   ]
  },
  {
   "cell_type": "markdown",
   "id": "d2a3284f",
   "metadata": {},
   "source": [
    "03"
   ]
  },
  {
   "cell_type": "code",
   "execution_count": 31,
   "id": "20206e74",
   "metadata": {},
   "outputs": [
    {
     "name": "stdout",
     "output_type": "stream",
     "text": [
      "[87, 63, 57] 중에서 최대:  87\n"
     ]
    }
   ],
   "source": [
    "from random import randint\n",
    "numbers = []\n",
    "for i in range(3):\n",
    "    n = randint(1,99)\n",
    "    numbers.append(n)\n",
    "import sys\n",
    "max = -sys.maxsize\n",
    "for i in range(len(numbers)):\n",
    "    if numbers[i] > max:\n",
    "        max = numbers[i]\n",
    "print(numbers, '중에서 최대:', max)"
   ]
  },
  {
   "cell_type": "code",
   "execution_count": 6,
   "id": "2d4d7271",
   "metadata": {},
   "outputs": [
    {
     "name": "stdout",
     "output_type": "stream",
     "text": [
      "[37, 86, 75]\n",
      "37 86 75중에서 최대: 86\n"
     ]
    }
   ],
   "source": [
    "from random import randint\n",
    "\n",
    "num = []\n",
    "\n",
    "for i in range(3):\n",
    "    num.append(randint(1,99))\n",
    "else:\n",
    "    print(num)\n",
    "    \n",
    "n1 = num[0]\n",
    "n2 = num[1]\n",
    "n3 = num[2]\n",
    "\n",
    "if n1 > n2:\n",
    "    if n1 > n3:\n",
    "        maximum = n1\n",
    "    else:\n",
    "        maximum = n3\n",
    "elif n1 < n2:\n",
    "    if n2 > n3:\n",
    "        maximum = n2\n",
    "    else:\n",
    "        maximum = n3\n",
    "\n",
    "print(f'{n1} {n2} {n3}중에서 최대: {maximum}')"
   ]
  },
  {
   "cell_type": "markdown",
   "id": "0fc2ceae",
   "metadata": {},
   "source": [
    "04"
   ]
  },
  {
   "cell_type": "code",
   "execution_count": 68,
   "id": "f97ddb33",
   "metadata": {},
   "outputs": [
    {
     "name": "stdout",
     "output_type": "stream",
     "text": [
      "당신의 키(cm)와 몸무게(kg)는? >> 171 72\n",
      "키: 171.0, 몸무게: 72.0\n",
      "BMI:24.6 정상\n"
     ]
    }
   ],
   "source": [
    "h, w = input('당신의 키(cm)와 몸무게(kg)는? >> ').split()\n",
    "h = float(h)\n",
    "w = float(w)\n",
    "print('키: %.1f, 몸무게: %.1f' % (h, w))\n",
    "bmi = float(w / (h / 100)**2)\n",
    "if 40 <= bmi:\n",
    "    meas = '고도비만'\n",
    "elif 35 <= bmi < 40:\n",
    "    meas = '중등도 비만'\n",
    "elif 30 <= bmi < 35:\n",
    "    meas = '비만'\n",
    "elif 25 <= bmi < 30:\n",
    "    meas = '과체중'\n",
    "elif 20 <= bmi < 25:\n",
    "    meas = '정상'\n",
    "else:\n",
    "    meas = '저체중'\n",
    "print('BMI:{0:.1f}'.format(bmi), meas)"
   ]
  },
  {
   "cell_type": "markdown",
   "id": "76815d09",
   "metadata": {},
   "source": [
    "05"
   ]
  },
  {
   "cell_type": "code",
   "execution_count": 86,
   "id": "bf47f9ac",
   "metadata": {},
   "outputs": [
    {
     "name": "stdout",
     "output_type": "stream",
     "text": [
      "섭씨: 20 화씨: 68   화씨(약식): 70   차이: 2.00 \n",
      "섭씨: 23 화씨: 73   화씨(약식): 76   차이: 2.60 \n",
      "섭씨: 26 화씨: 78   화씨(약식): 82   차이: 3.20 \n",
      "섭씨: 29 화씨: 84   화씨(약식): 88   차이: 3.80 \n",
      "섭씨: 32 화씨: 89   화씨(약식): 94   차이: 4.40 \n",
      "섭씨: 35 화씨: 95   화씨(약식): 100  차이: 5.00 \n",
      "섭씨: 38 화씨: 100  화씨(약식): 106  차이: 5.60 \n",
      "섭씨: 41 화씨: 105  화씨(약식): 112  차이: 6.20 \n"
     ]
    }
   ],
   "source": [
    "for i in range(20, 42, 3):\n",
    "    c = i\n",
    "    f1 = c * 9/5 + 32\n",
    "    f2 = c * 2 + 30\n",
    "    dis = f2 - f1\n",
    "    print('섭씨:', c, '화씨: %-4d'% f1, '화씨(약식): %-4d'% f2, '차이: %.2f ' % dis)"
   ]
  },
  {
   "cell_type": "markdown",
   "id": "0e60bb06",
   "metadata": {},
   "source": [
    "06"
   ]
  },
  {
   "cell_type": "code",
   "execution_count": 6,
   "id": "afcb5c07",
   "metadata": {},
   "outputs": [
    {
     "name": "stdout",
     "output_type": "stream",
     "text": [
      "9 * 63 = 567\n",
      "계속 y / n ? y\n",
      "47 * 14 = 658\n",
      "계속 y / n ? y\n",
      "99 * 63 = 6237\n",
      "계속 y / n ? n\n",
      "종료\n"
     ]
    }
   ],
   "source": [
    "from random import randint\n",
    "while True:\n",
    "    a = randint(1,99)\n",
    "    b = randint(1,99)\n",
    "    print(a, '*', b, '=', a * b)\n",
    "    answer = input('계속 y / n ? ')\n",
    "    if answer == 'n':\n",
    "        break\n",
    "    else:\n",
    "        continue\n",
    "print('종료')"
   ]
  },
  {
   "cell_type": "markdown",
   "id": "c7b7ed20",
   "metadata": {},
   "source": [
    "07"
   ]
  },
  {
   "cell_type": "code",
   "execution_count": null,
   "id": "1c3c481c",
   "metadata": {},
   "outputs": [],
   "source": [
    "n = int(input('소수인지 판별할 2이상의 정수 입력 >> '))\n",
    "\n",
    "if n > 1:\n",
    "    for i in range(2, int(n / 2) + 1):\n",
    "         if (n % i) == 0:\n",
    "            print('정수 %d은(는) 소수가 아닙니다.' % n)\n",
    "            break\n",
    "    else:\n",
    "        print(\"정수 %d은(는) 소수입니다.\" % n)\n",
    "else:\n",
    "    print('정수 %d은(는) 소수가 아닙니다.' % n)"
   ]
  },
  {
   "cell_type": "markdown",
   "id": "2a46e058",
   "metadata": {},
   "source": [
    "08"
   ]
  },
  {
   "cell_type": "code",
   "execution_count": 1,
   "id": "f68b0ad4",
   "metadata": {},
   "outputs": [
    {
     "name": "stdout",
     "output_type": "stream",
     "text": [
      "첫 값은 100이다.\n",
      "산술 연산의 종류 입력 >> /\n",
      "두 번째 피연산자 입력 >> 10\n",
      "100 / 10 = 10.0\n",
      "산술 연산의 종류 입력 >> *\n",
      "두 번째 피연산자 입력 >> 2\n",
      "100 * 2 = 200\n",
      "산술 연산의 종류 입력 >> $\n",
      "두 번째 피연산자 입력 >> 4\n",
      "******** 종료 ********\n"
     ]
    }
   ],
   "source": [
    "from random import randint\n",
    "a = randint(1,100)\n",
    "print('첫 값은 %d이다.' % a)\n",
    "while True:\n",
    "    op = input('산술 연산의 종류 입력 >> ')\n",
    "    b = int(input('두 번째 피연산자 입력 >> '))\n",
    "    result = 0\n",
    "    if op == '+':\n",
    "        result = a + b\n",
    "    elif op == '-':\n",
    "        result = a - b\n",
    "    elif op == '*':\n",
    "        result = a * b\n",
    "    elif op == '/':\n",
    "        result = a / b\n",
    "    elif op == '%':\n",
    "        result = a % b\n",
    "    else:\n",
    "        print(' 종료 '.center(20, '*'))\n",
    "        break\n",
    "        \n",
    "    print(a, op, b, '=', result)"
   ]
  }
 ],
 "metadata": {
  "kernelspec": {
   "display_name": "Python 3 (ipykernel)",
   "language": "python",
   "name": "python3"
  },
  "language_info": {
   "codemirror_mode": {
    "name": "ipython",
    "version": 3
   },
   "file_extension": ".py",
   "mimetype": "text/x-python",
   "name": "python",
   "nbconvert_exporter": "python",
   "pygments_lexer": "ipython3",
   "version": "3.9.7"
  }
 },
 "nbformat": 4,
 "nbformat_minor": 5
}
