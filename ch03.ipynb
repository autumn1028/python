{
 "cells": [
  {
   "cell_type": "markdown",
   "id": "b7759a9a",
   "metadata": {},
   "source": [
    "# chapter3\n",
    "## 프로젝트 Lab1"
   ]
  },
  {
   "cell_type": "code",
   "execution_count": 4,
   "id": "ce33998a",
   "metadata": {},
   "outputs": [
    {
     "name": "stdout",
     "output_type": "stream",
     "text": [
      "총 가격(원 가격) 입력 >> 30000\n",
      "원 가격:  30000 할인된 가격:  29400.0\n",
      "할인율:  0.02 할인액:  600.0\n"
     ]
    }
   ],
   "source": [
    "price = int(input('총 가격(원 가격) 입력 >> '))\n",
    "rate1 = (10000 <= price < 20000) * 1/100\n",
    "rate2 = (20000 <= price < 40000) * 2/100\n",
    "rate3 = (40000 <= price) * 4/100\n",
    "rate = rate1 + rate2 + rate3\n",
    "\n",
    "discount = price * rate\n",
    "discPrice = price - discount\n",
    "print('원 가격: ', price, '할인된 가격: ', discPrice)\n",
    "print('할인율: ', rate, '할인액: ', discount)"
   ]
  },
  {
   "cell_type": "markdown",
   "id": "c2eadac3",
   "metadata": {},
   "source": [
    "## 프로젝트 Lab2"
   ]
  },
  {
   "cell_type": "code",
   "execution_count": 9,
   "id": "a10e09f8",
   "metadata": {},
   "outputs": [
    {
     "name": "stdout",
     "output_type": "stream",
     "text": [
      "콤마로 구분된 단어 3개 입력 >> 기러기, 파이썬, level\n",
      "단어: 기러기, 역순: 기러기, 회문: True\n",
      "단어: 파이썬, 역순: 썬이파, 회문: False\n",
      "단어: level, 역순: level, 회문: True\n"
     ]
    }
   ],
   "source": [
    "str = input('콤마로 구분된 단어 3개 입력 >> ')\n",
    "str = str.replace(' ', '')\n",
    "w1, w2, w3 = str.split(',')\n",
    "print('단어: {}, 역순: {}, 회문: {}'.format(w1, w1[::-1],(w1 == w1[::-1])))\n",
    "print('단어: {}, 역순: {}, 회문: {}'.format(w2, w2[::-1],(w2 == w2[::-1])))\n",
    "print('단어: {}, 역순: {}, 회문: {}'.format(w3, w3[::-1],(w3 == w3[::-1])))"
   ]
  },
  {
   "cell_type": "markdown",
   "id": "c777905e",
   "metadata": {},
   "source": [
    "## 도전 프로그래밍"
   ]
  },
  {
   "cell_type": "markdown",
   "id": "6e063387",
   "metadata": {},
   "source": [
    "01"
   ]
  },
  {
   "cell_type": "code",
   "execution_count": 4,
   "id": "99299ae3",
   "metadata": {},
   "outputs": [
    {
     "name": "stdout",
     "output_type": "stream",
     "text": [
      "문자열 입력 >> Python is a good language!\n",
      "참조할 첨자: 0 ~ 25\n",
      "참조할 첨자 입력 >> 12\n",
      "문자열:  Python is a good language! , 길이:  26\n",
      "참조 문자:  g\n"
     ]
    }
   ],
   "source": [
    "str = input('문자열 입력 >> ')\n",
    "print('참조할 첨자: 0 ~ 25')\n",
    "sub = int(input('참조할 첨자 입력 >> '))\n",
    "print('문자열: ', str, ', 길이: ', len(str))\n",
    "print('참조 문자: ', str[-len(str)+sub])"
   ]
  },
  {
   "cell_type": "markdown",
   "id": "ef107161",
   "metadata": {},
   "source": [
    "02"
   ]
  },
  {
   "cell_type": "code",
   "execution_count": 7,
   "id": "d18a9846",
   "metadata": {},
   "outputs": [
    {
     "name": "stdout",
     "output_type": "stream",
     "text": [
      "다섯 문자 이상의 문자열 입력 >> Python String Slicing\n",
      "입력 문자열:  Python String Slicing\n",
      "첫 문자:  P\n",
      "마지막 문자:  g\n",
      "첫 문자를 제외한 부분 문자열:  ython String Slicing\n",
      "마지막 문자를 제외한 부분 문자열:  Python String Slicin\n",
      "맨 앞과 뒤의 두 문자씩 제외한 부분 문자열:  thon String Slici\n",
      "문자 하나씩을 건너뛴 부분 문자열:  Pto tigSiig\n",
      "역문자열:  gnicilS gnirtS nohtyP\n"
     ]
    }
   ],
   "source": [
    "str = input('다섯 문자 이상의 문자열 입력 >> ')\n",
    "print('입력 문자열: ', str)\n",
    "print('첫 문자: ', str[0])\n",
    "print('마지막 문자: ',str[-1])\n",
    "print('첫 문자를 제외한 부분 문자열: ', str[1:])\n",
    "print('마지막 문자를 제외한 부분 문자열: ', str[:-1])\n",
    "print('맨 앞과 뒤의 두 문자씩 제외한 부분 문자열: ', str[2:-2])\n",
    "print('문자 하나씩을 건너뛴 부분 문자열: ', str[::2])\n",
    "print('역문자열: ', str[::-1])"
   ]
  },
  {
   "cell_type": "markdown",
   "id": "3b04e938",
   "metadata": {},
   "source": [
    "03"
   ]
  },
  {
   "cell_type": "code",
   "execution_count": 10,
   "id": "b35a9bcb",
   "metadata": {},
   "outputs": [
    {
     "name": "stdout",
     "output_type": "stream",
     "text": [
      "Explicit is better than implicit\n"
     ]
    }
   ],
   "source": [
    "str = 'Beautiful is better than ugly.'\n",
    "str = str.replace(str, 'Explicit is better than implicit')\n",
    "print(str)"
   ]
  },
  {
   "cell_type": "markdown",
   "id": "bf4039fc",
   "metadata": {},
   "source": [
    "04"
   ]
  },
  {
   "cell_type": "markdown",
   "id": "b56cf655",
   "metadata": {},
   "source": [
    "url = 'http://docs.python.org/3/tutorial'\n",
    "url.find('http')\n",
    "url.rfind('docs.python.org')\n",
    "url.split('/')"
   ]
  },
  {
   "cell_type": "code",
   "execution_count": 5,
   "id": "fea8f47e",
   "metadata": {},
   "outputs": [
    {
     "name": "stdout",
     "output_type": "stream",
     "text": [
      "http docs.python.org tutorial\n"
     ]
    }
   ],
   "source": [
    "url = 'http://docs.python.org/3/tutorial'\n",
    "a, b = url.split('://')\n",
    "new_url = b.split('/')\n",
    "print(a, new_url[0], new_url[2])"
   ]
  },
  {
   "cell_type": "markdown",
   "id": "2d0c1416",
   "metadata": {},
   "source": [
    "05"
   ]
  },
  {
   "cell_type": "code",
   "execution_count": 8,
   "id": "dd99bccc",
   "metadata": {},
   "outputs": [
    {
     "name": "stdout",
     "output_type": "stream",
     "text": [
      "시각 정보 입력(ex - 12:13:00) >> 17:29:52\n",
      "17:29:52\n",
      "17시 29분 52초\n"
     ]
    }
   ],
   "source": [
    "time = input('시각 정보 입력(ex - 12:13:00) >> ')\n",
    "print(time)\n",
    "hours, mins, secs = time.split(':')\n",
    "print(f'{hours}시 {mins}분 {secs}초')"
   ]
  },
  {
   "cell_type": "markdown",
   "id": "ccd37f0e",
   "metadata": {},
   "source": [
    "06"
   ]
  },
  {
   "cell_type": "code",
   "execution_count": 29,
   "id": "78546ff7",
   "metadata": {},
   "outputs": [
    {
     "name": "stdout",
     "output_type": "stream",
     "text": [
      "실수 두 개 입력 >> 5.4 2.7\n",
      "5.4 > 2.7 결과:  True\n",
      "5.4 >= 2.7 결과:  True\n",
      "5.4 < 2.7 결과:  False\n",
      "5.4 <= 2.7 결과:  False\n",
      "5.4 == 2.7 결과:  False\n",
      "5.4 != 2.7 결과:  True\n"
     ]
    }
   ],
   "source": [
    "f = input('실수 두 개 입력 >> ')\n",
    "f1, f2 = f.split(' ')\n",
    "print(f1, '>', f2, '결과: ', f1 > f2)\n",
    "print(f1, '>=', f2, '결과: ', f1 >= f2)\n",
    "print(f1, '<', f2, '결과: ', f1 < f2)\n",
    "print(f1, '<=', f2, '결과: ', f1 <= f2)\n",
    "print(f1, '==', f2, '결과: ', f1 == f2)\n",
    "print(f1, '!=', f2, '결과: ', f1 != f2)"
   ]
  },
  {
   "cell_type": "markdown",
   "id": "d2537d8b",
   "metadata": {},
   "source": [
    "07"
   ]
  },
  {
   "cell_type": "code",
   "execution_count": 63,
   "id": "3c5443d7",
   "metadata": {
    "scrolled": true
   },
   "outputs": [
    {
     "name": "stdout",
     "output_type": "stream",
     "text": [
      "10진수:  -7, 2진수: 11111001, 8진수:   371, 16진수:  f9\n",
      "10진수:  -6, 2진수: 11111010, 8진수:   372, 16진수:  fa\n",
      "10진수:  -5, 2진수: 11111011, 8진수:   373, 16진수:  fb\n",
      "10진수:  -4, 2진수: 11111100, 8진수:   374, 16진수:  fc\n",
      "10진수:  -3, 2진수: 11111101, 8진수:   375, 16진수:  fd\n",
      "10진수:  -2, 2진수: 11111110, 8진수:   376, 16진수:  fe\n",
      "10진수:  -1, 2진수: 11111111, 8진수:   377, 16진수:  ff\n",
      "10진수:   0, 2진수:        0, 8진수:     0, 16진수:   0\n"
     ]
    }
   ],
   "source": [
    "for i in range(-7,0):\n",
    "    i = int(i)\n",
    "    print('10진수: {0:3d},'.format(i), '2진수: {0:08b}, 8진수: {0:5o}, 16진수: {0:3x}'.format(256 + i))\n",
    "else:\n",
    "    print('10진수: {0:3d}, 2진수: {0:8b}, 8진수: {0:5o}, 16진수: {0:3x}'.format(0))"
   ]
  },
  {
   "cell_type": "code",
   "execution_count": 64,
   "id": "07dcd259",
   "metadata": {},
   "outputs": [
    {
     "name": "stdout",
     "output_type": "stream",
     "text": [
      "-0000111\n"
     ]
    }
   ],
   "source": [
    "mask = 0xff\n",
    "print('{:08b}'.format(-7, -7 & mask))"
   ]
  },
  {
   "cell_type": "code",
   "execution_count": 48,
   "id": "8c546b9a",
   "metadata": {},
   "outputs": [
    {
     "name": "stdout",
     "output_type": "stream",
     "text": [
      "10진수:  -7, 2진수 -0000111\n",
      "10진수:   7, 2진수 00000111\n",
      "10진수:  -7, 2진수 -0000111\n",
      "10진수:  -7 2진수 11111001\n"
     ]
    }
   ],
   "source": [
    "n = -7\n",
    "print('10진수: {0:3d}, 2진수 {0:08b}'.format(n))\n",
    "print('10진수: {0:3d}, 2진수 {0:08b}'.format(~n + 1))\n",
    "print('10진수: {0:3d}, 2진수 {0:08b}'.format(~~n))\n",
    "print('10진수: {0:3d}'.format(n) ,'2진수 {0:08b}'.format(256 + n))"
   ]
  },
  {
   "cell_type": "markdown",
   "id": "45fed6bd",
   "metadata": {},
   "source": [
    "08"
   ]
  },
  {
   "cell_type": "code",
   "execution_count": 76,
   "id": "c5035f11",
   "metadata": {},
   "outputs": [
    {
     "name": "stdout",
     "output_type": "stream",
     "text": [
      "정수 입력 >> 67\n",
      "2의 지수승 입력 >>3\n",
      "정수 67 >> 3 결과:  536\n",
      "정수 67 * 2**3 결과:  536\n",
      "2진수:                         1000011 정수:67\n",
      "2진수:                      1000011000 정수:67 << 3\n",
      "2진수:                      1000011000 정수:67 * 2**3\n"
     ]
    }
   ],
   "source": [
    "n = int(input('정수 입력 >> '))\n",
    "ex = int(input('2의 지수승 입력 >>'))\n",
    "print('정수 {} >> {}'.format(n, ex), '결과: ', n << ex)\n",
    "print('정수 {} * 2**{}'.format(n, ex), '결과: ', n * 2 ** ex)\n",
    "print('2진수:{0:32b}'.format(n), '정수:{}'.format(n))\n",
    "print('2진수:{0:32b}'.format(n << ex),'정수:{} << {}'.format(n, ex))\n",
    "print('2진수:{0:32b}'.format(n * 2 ** ex), '정수:{} * 2**{}'.format(n, ex))"
   ]
  }
 ],
 "metadata": {
  "kernelspec": {
   "display_name": "Python 3 (ipykernel)",
   "language": "python",
   "name": "python3"
  },
  "language_info": {
   "codemirror_mode": {
    "name": "ipython",
    "version": 3
   },
   "file_extension": ".py",
   "mimetype": "text/x-python",
   "name": "python",
   "nbconvert_exporter": "python",
   "pygments_lexer": "ipython3",
   "version": "3.9.7"
  }
 },
 "nbformat": 4,
 "nbformat_minor": 5
}
