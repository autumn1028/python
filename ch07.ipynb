{
 "cells": [
  {
   "cell_type": "markdown",
   "id": "9fea29f9",
   "metadata": {},
   "source": [
    "# ch07\n",
    "## 프로젝트 Lab1"
   ]
  },
  {
   "cell_type": "code",
   "execution_count": 6,
   "id": "053383df",
   "metadata": {},
   "outputs": [
    {
     "name": "stdout",
     "output_type": "stream",
     "text": [
      "[5, 8, 10, 10, 29, 30, 37, 78, 78, 99]\n",
      "합: 384, 평균: 38.40\n",
      "최대: 5, 최소: 99\n"
     ]
    }
   ],
   "source": [
    "from random import randint\n",
    "\n",
    "def setsequence(start, end, count):\n",
    "    global nums\n",
    "    for _ in range(count):\n",
    "        nums.append(randint(start, end))\n",
    "\n",
    "nums = []\n",
    "setsequence(1, 100, 10)\n",
    "print(sorted(nums))\n",
    "print('합: %d, 평균: %.2f' % (sum(nums), sum(nums)/len(nums)))\n",
    "print('최대: %d, 최소: %d' % (min(nums), max(nums)))"
   ]
  },
  {
   "cell_type": "markdown",
   "id": "0c673076",
   "metadata": {},
   "source": [
    "## 프로젝트 Lab2"
   ]
  },
  {
   "cell_type": "code",
   "execution_count": 1,
   "id": "8c56384e",
   "metadata": {},
   "outputs": [
    {
     "name": "stdout",
     "output_type": "stream",
     "text": [
      "A 자 동 07 08 11 19 25 33 \n",
      "B 자 동 06 11 23 24 32 35 \n",
      "C 자 동 14 20 29 31 38 44 \n",
      "D 자 동 08 24 27 29 33 36 \n",
      "E 자 동 02 14 25 32 39 41 \n",
      "\n",
      "당첨 번호: 01 08 10 12 27 32 \n",
      "\n",
      "A 당첨번호 개수 1, 08 \n",
      "B 당첨번호 개수 1, 32 \n",
      "C 꽝\n",
      "D 당첨번호 개수 2, 08 27 \n",
      "E 당첨번호 개수 1, 32 \n"
     ]
    }
   ],
   "source": [
    "from random import sample\n",
    "\n",
    "winnum = set()\n",
    "\n",
    "def buyautolotto():\n",
    "    ''' 정렬된 6개의 로또 번호 5개 조합을 생성 '''\n",
    "    lotto = []\n",
    "    for i in range(5):\n",
    "        num6 = set(sample( list(range(1, 46)), 6 ))\n",
    "        lotto.append(num6)\n",
    "    return lotto\n",
    "\n",
    "def printnums(nums):\n",
    "    ''' 시퀀스인 수를 정렬하여 출력 '''\n",
    "    for num in sorted(nums):\n",
    "        print('%02d' % num, end = ' ')\n",
    "    print()    \n",
    "    \n",
    "def printlotto(lotto):\n",
    "    ''' 로또 복권 표와 같이 출력 '''\n",
    "    for i, item in enumerate(lotto):\n",
    "        print('%c 자 동 ' % (ord('A') + i), end = '')\n",
    "        printnums(item)\n",
    "    print()\n",
    "\n",
    "def setwinlotto():\n",
    "    ''' 전역변수 winnum에 당첨 번호 정하기 '''\n",
    "    global winnum\n",
    "    winnum = set(sample( list(range(1, 46)), 6 ))\n",
    "    \n",
    "def getwinner(lotto):\n",
    "    ''' 5개의 로또 번호에서 각각 당첨 번호 개수와 수를 출력 '''\n",
    "    for i, item in enumerate(lotto): \n",
    "        print('%c' % (ord('A') + i), end = ' ')\n",
    "        win = winnum.intersection(item)\n",
    "        if win:\n",
    "            wincnt = len(win)          \n",
    "            print('당첨번호 개수 %d, ' % wincnt, end = '')\n",
    "            printnums(win)\n",
    "        else:\n",
    "            print('꽝')\n",
    "\n",
    "lotto = buyautolotto()\n",
    "printlotto(lotto)\n",
    "setwinlotto()\n",
    "print('당첨 번호: ', end = '')\n",
    "printnums(winnum)\n",
    "print()\n",
    "getwinner(lotto)"
   ]
  },
  {
   "cell_type": "markdown",
   "id": "d3fb93f2",
   "metadata": {},
   "source": [
    "01"
   ]
  },
  {
   "cell_type": "code",
   "execution_count": 9,
   "id": "93f18d63",
   "metadata": {},
   "outputs": [
    {
     "name": "stdout",
     "output_type": "stream",
     "text": [
      "5! = 120\n",
      "10! = 3628800\n",
      "20! = 2432902008176640000\n"
     ]
    }
   ],
   "source": [
    "def factorial(n):\n",
    "    a = 1\n",
    "    for i in range(1,n+1):\n",
    "        a *= i\n",
    "    return a\n",
    "\n",
    "print('{}! = {}'.format(5, factorial(5)))\n",
    "print('{}! = {}'.format(10, factorial(10)))\n",
    "print('{}! = {}'.format(20, factorial(20)))"
   ]
  },
  {
   "cell_type": "markdown",
   "id": "4a27062b",
   "metadata": {},
   "source": [
    "02"
   ]
  },
  {
   "cell_type": "code",
   "execution_count": 11,
   "id": "a230de3a",
   "metadata": {},
   "outputs": [
    {
     "name": "stdout",
     "output_type": "stream",
     "text": [
      "예금 원금: 300000\n",
      "2년 총액: 330750.00\n",
      "4년 총액: 364651.88\n",
      "6년 총액: 402028.69\n",
      "8년 총액: 443236.63\n"
     ]
    }
   ],
   "source": [
    "def getinterest(money, rate, year):\n",
    "    rate = 0.05\n",
    "    return money * (1 + rate) ** year\n",
    "    \n",
    "money = int(input('예금 원금: '))\n",
    "year = 0\n",
    "for i in range(4):\n",
    "    year += 2\n",
    "    print('{}년 총액: {:.2f}'.format(year, getinterest(money, rate, year)))"
   ]
  },
  {
   "cell_type": "markdown",
   "id": "155af23e",
   "metadata": {},
   "source": [
    "03"
   ]
  },
  {
   "cell_type": "code",
   "execution_count": 16,
   "id": "33bb545d",
   "metadata": {},
   "outputs": [
    {
     "name": "stdout",
     "output_type": "stream",
     "text": [
      "번호 선택  1.갤론=>리터  2.리터=>갤론1\n",
      "변환할 갤론은? 234\n",
      "234.00갤론 == 885.69리터\n"
     ]
    }
   ],
   "source": [
    "to = int(input('번호 선택  1.갤론=>리터  2.리터=>갤론'))\n",
    "def togallon():\n",
    "    return gallon * 3.785\n",
    "def toliter():\n",
    "    return liter * 0.264\n",
    "if to == 1:\n",
    "    gallon = float(input('변환할 갤론은? '))\n",
    "    print('{:.2f}갤론 == {}리터'.format(gallon, togallon()))\n",
    "else:\n",
    "    liter = float(input('변환할 리터는? '))\n",
    "    print('{:.2f}리터 == {}캘론'.format(liter, toliter()))"
   ]
  },
  {
   "cell_type": "markdown",
   "id": "7e2a78de",
   "metadata": {},
   "source": [
    "04"
   ]
  },
  {
   "cell_type": "code",
   "execution_count": 25,
   "id": "f2b475c7",
   "metadata": {},
   "outputs": [
    {
     "name": "stdout",
     "output_type": "stream",
     "text": [
      "태양계 행성의 크기(반지름)로 정렬\n",
      "[('태양', 695000, 0), ('목성', 71492, 5.2), ('지구', 6378, 1), ('금성', 6052, 0.7), ('화성', 3390, 1.5), ('수성', 2439, 0.4)]\n",
      "태양계 행성의 태양과의 거리로 정렬\n",
      "[('태양', 695000, 0), ('수성', 2439, 0.4), ('금성', 6052, 0.7), ('지구', 6378, 1), ('화성', 3390, 1.5), ('목성', 71492, 5.2)]\n"
     ]
    }
   ],
   "source": [
    "planets = [('수성', 2439, 0.4), ('금성', 6052, 0.7), ('태양', 695000, 0), \n",
    "           ('지구', 6378, 1), ('화성', 3390, 1.5), ('목성', 71492, 5.2)]\n",
    "\n",
    "print('태양계 행성의 크기(반지름)로 정렬')\n",
    "print(sorted(planets, key = lambda x:x[1], reverse = True))\n",
    "print('태양계 행성의 태양과의 거리로 정렬')\n",
    "print(sorted(planets, key = lambda x:x[2]))"
   ]
  },
  {
   "cell_type": "markdown",
   "id": "5cf12331",
   "metadata": {},
   "source": [
    "05"
   ]
  },
  {
   "cell_type": "code",
   "execution_count": 16,
   "id": "37fd6822",
   "metadata": {},
   "outputs": [
    {
     "name": "stdout",
     "output_type": "stream",
     "text": [
      "섭씨 온도: [4, 16, 20, 24, 28, 29, 38, 49, 57]\n",
      "화씨 온도: [39.2, 60.8, 68.0, 75.2, 82.4, 84.2, 100.4, 120.2, 134.6]\n",
      "섭씨 온도 4 => 화씨 39.2\n",
      "섭씨 온도 16 => 화씨 60.8\n",
      "섭씨 온도 20 => 화씨 68.0\n",
      "섭씨 온도 24 => 화씨 75.2\n",
      "섭씨 온도 28 => 화씨 82.4\n",
      "섭씨 온도 29 => 화씨 84.2\n",
      "섭씨 온도 38 => 화씨 100.4\n",
      "섭씨 온도 49 => 화씨 120.2\n",
      "섭씨 온도 57 => 화씨 134.6\n"
     ]
    }
   ],
   "source": [
    "cels = [4, 16, 20, 24, 28, 29, 38, 49, 57]\n",
    "temp = list(map(lambda x: x * 9 / 5 + 32, cels))\n",
    "print('섭씨 온도: {}'.format(cels))\n",
    "print('화씨 온도: {}'.format(temp))\n",
    "\n",
    "for i in range(len(cels)):\n",
    "    list(zip(cels, temp))\n",
    "    print(f'섭씨 온도 {cels[i]} => 화씨 {temp[i]}')"
   ]
  },
  {
   "cell_type": "markdown",
   "id": "42bdecfb",
   "metadata": {},
   "source": [
    "06"
   ]
  },
  {
   "cell_type": "code",
   "execution_count": 28,
   "id": "67df296c",
   "metadata": {},
   "outputs": [
    {
     "name": "stdout",
     "output_type": "stream",
     "text": [
      "원 리스트: [6, 11, 16, 18, 23, 24]\n",
      "필터 리스트: [6, 18, 24]\n"
     ]
    }
   ],
   "source": [
    "import random\n",
    "\n",
    "nums1 = sorted(random.sample(range(1, 31), 6))\n",
    "print('원 리스트: {}'.format(nums1))\n",
    "\n",
    "nums2 = list(filter(lambda x: (x%3 == 0),nums1))\n",
    "print('필터 리스트: {}'.format(nums2))"
   ]
  }
 ],
 "metadata": {
  "kernelspec": {
   "display_name": "Python 3 (ipykernel)",
   "language": "python",
   "name": "python3"
  },
  "language_info": {
   "codemirror_mode": {
    "name": "ipython",
    "version": 3
   },
   "file_extension": ".py",
   "mimetype": "text/x-python",
   "name": "python",
   "nbconvert_exporter": "python",
   "pygments_lexer": "ipython3",
   "version": "3.9.7"
  }
 },
 "nbformat": 4,
 "nbformat_minor": 5
}
