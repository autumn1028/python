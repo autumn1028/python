{
 "cells": [
  {
   "cell_type": "markdown",
   "id": "ab9ecf40",
   "metadata": {},
   "source": [
    "# chapter02\n",
    "\n",
    "## 프로젝트 Lab1"
   ]
  },
  {
   "cell_type": "code",
   "execution_count": 2,
   "id": "3a4f178c",
   "metadata": {},
   "outputs": [
    {
     "name": "stdout",
     "output_type": "stream",
     "text": [
      "첫 번째 수 입력 >> 10.0\n",
      "두 번째 수 입력 >> 2.5\n",
      "합: 12.5\n",
      "차: 7.5\n",
      "곱하기: 25.0\n",
      "나누기: 4.0\n",
      "연산식 입력 >> 3 * 4 / 2\n",
      "연산식: 3 * 4 / 2 결과: 6.0\n"
     ]
    }
   ],
   "source": [
    "# 두 실수의 사칙연산과 표준 입력 연산식의 계산\n",
    "num1 = float(input('첫 번째 수 입력 >> '))\n",
    "num2 = float(input('두 번째 수 입력 >> '))\n",
    "print('합:', num1 + num2)\n",
    "print('차:', num1 - num2)\n",
    "print('곱하기:', num1 * num2)\n",
    "print('나누기:', num1 / num2)\n",
    "expression = input('연산식 입력 >> ')\n",
    "print('연산식:', expression, '결과:', eval(expression))"
   ]
  },
  {
   "cell_type": "markdown",
   "id": "b7b61d90",
   "metadata": {},
   "source": [
    "## 프로젝트 Lab2"
   ]
  },
  {
   "cell_type": "code",
   "execution_count": 4,
   "id": "4c8b2c5d",
   "metadata": {},
   "outputs": [
    {
     "name": "stdout",
     "output_type": "stream",
     "text": [
      "입력할 정수의 진수(base)는? 16\n",
      "16진수 정수 입력 >> 1f\n",
      "2진수: 0b11111\n",
      "8진수: 0o37\n",
      "10진수: 31\n",
      "16진수: 0x1f\n"
     ]
    }
   ],
   "source": [
    "# 진수와 그에 맞는 정수를 입력받아 2진수, 8진수, 10진수, 16진수 출력\n",
    "base = int(input('입력할 정수의 진수(base)는? '))\n",
    "invar = input(str(base) + '진수 정수 입력 >> ')\n",
    "data = int(invar, base) # 입력 문자열을 base 진수로 변환\n",
    "# 여러 진수로 출력\n",
    "print('2진수:', bin(data))\n",
    "print('8진수:', oct(data))\n",
    "print('10진수:', data)\n",
    "print('16진수:', hex(data))"
   ]
  },
  {
   "cell_type": "markdown",
   "id": "0eb3b6dc",
   "metadata": {},
   "source": [
    "## 도전 프로그래밍\n",
    "### p.68"
   ]
  },
  {
   "cell_type": "markdown",
   "id": "b9889d7f",
   "metadata": {},
   "source": [
    "01"
   ]
  },
  {
   "cell_type": "code",
   "execution_count": 2,
   "id": "98743c66",
   "metadata": {},
   "outputs": [
    {
     "name": "stdout",
     "output_type": "stream",
     "text": [
      "문자열 1: python\n",
      "문자열 2: 언어\n",
      "python 언어\n",
      "python, 언어\n"
     ]
    }
   ],
   "source": [
    "string1 = input('문자열 1: ')\n",
    "string2 = input('문자열 2: ')\n",
    "print(string1, string2)\n",
    "print(f'{string1}, {string2}')"
   ]
  },
  {
   "cell_type": "markdown",
   "id": "00f2cbf8",
   "metadata": {},
   "source": [
    "02"
   ]
  },
  {
   "cell_type": "code",
   "execution_count": 10,
   "id": "2bc78171",
   "metadata": {},
   "outputs": [
    {
     "name": "stdout",
     "output_type": "stream",
     "text": [
      "차의 속도를 입력(km) >> 135\n",
      "135 (km)은 83.85093167701862 마일(miles)이다.\n"
     ]
    }
   ],
   "source": [
    "v = int(input('차의 속도를 입력(km) >> '))\n",
    "mile = v / 1.61\n",
    "print(v, '(km)은', mile, '마일(miles)이다.')"
   ]
  },
  {
   "cell_type": "markdown",
   "id": "d1ed27ed",
   "metadata": {},
   "source": [
    "03"
   ]
  },
  {
   "cell_type": "code",
   "execution_count": 11,
   "id": "f108d2db",
   "metadata": {},
   "outputs": [
    {
     "name": "stdout",
     "output_type": "stream",
     "text": [
      "아메리카노 몇 개 주문하세요? 7\n",
      "총 가격은 24500 이다.\n"
     ]
    }
   ],
   "source": [
    "n = int(input('아메리카노 몇 개 주문하세요? '))\n",
    "price = n * 3500\n",
    "print('총 가격은', price, '이다.')"
   ]
  },
  {
   "cell_type": "markdown",
   "id": "7e4803e5",
   "metadata": {},
   "source": [
    "04"
   ]
  },
  {
   "cell_type": "code",
   "execution_count": 13,
   "id": "f5ca63a1",
   "metadata": {},
   "outputs": [
    {
     "name": "stdout",
     "output_type": "stream",
     "text": [
      "알려진 지구 둘레: 40120\n",
      "지구와 같은 원둘레:  40074.77587040001\n",
      "차이:  45.22412959999201 (km)\n"
     ]
    }
   ],
   "source": [
    "earth = int(input('알려진 지구 둘레: '))\n",
    "c = 2 * 3.141592 * 6378.1\n",
    "dis = earth - c\n",
    "print('지구와 같은 원둘레: ', c)\n",
    "print('차이: ', dis, '(km)')"
   ]
  },
  {
   "cell_type": "markdown",
   "id": "08d7240f",
   "metadata": {},
   "source": [
    "05"
   ]
  },
  {
   "cell_type": "code",
   "execution_count": 15,
   "id": "1e972095",
   "metadata": {},
   "outputs": [
    {
     "name": "stdout",
     "output_type": "stream",
     "text": [
      "온도 입력 >> 38\n",
      "<정확 계산> 섭씨:  38 , 화씨:  100.4\n",
      "<약식 계산> 섭씨:  38 , 화씨:  106\n",
      "차이:  -5.599999999999994\n"
     ]
    }
   ],
   "source": [
    "celsius = int(input('온도 입력 >> '))\n",
    "fahrenhite1 = celsius * 9/5 +32 # 정확 계산 화씨 변환\n",
    "print('<정확 계산> 섭씨: ', celsius, ',', '화씨: ', fahrenhite1)\n",
    "\n",
    "fahrenhite2 = celsius * 2 + 30 # 약식 계산 화씨 변환\n",
    "print('<약식 계산> 섭씨: ', celsius, ',', '화씨: ', fahrenhite2)\n",
    "\n",
    "dis = fahrenhite1 - fahrenhite2\n",
    "print('차이: ', dis)"
   ]
  },
  {
   "cell_type": "markdown",
   "id": "e8c0158b",
   "metadata": {},
   "source": [
    "06"
   ]
  },
  {
   "cell_type": "code",
   "execution_count": 17,
   "id": "4b0fe322",
   "metadata": {},
   "outputs": [
    {
     "name": "stdout",
     "output_type": "stream",
     "text": [
      "Enter First number: 12\n",
      "Enter Second number: 5\n",
      "12 / 5 ==> 2.4\n",
      "12 % 5 ==> 2\n",
      "12 // 5 ==> 2\n",
      "12 ** 5 ==> 248832\n"
     ]
    }
   ],
   "source": [
    "num1 = int(input('Enter First number: '))\n",
    "num2 = int(input('Enter Second number: '))\n",
    "print(num1, '/', num2, '==>', num1 / num2)\n",
    "print(num1, '%', num2, '==>', num1 % num2)\n",
    "print(num1, '//', num2, '==>', num1 // num2)\n",
    "print(num1, '**', num2, '==>', num1 ** num2)"
   ]
  },
  {
   "cell_type": "code",
   "execution_count": 3,
   "id": "cdee6983",
   "metadata": {
    "scrolled": true
   },
   "outputs": [
    {
     "name": "stdout",
     "output_type": "stream",
     "text": [
      "첫 번째 숫자: 5\n",
      "두 번째 숫자: 3\n",
      "5 / 3 =  1.67\n",
      "5 % 3 =  2.00\n",
      "5 // 3 =  1.00\n",
      "5 ** 3 =  125.00\n"
     ]
    }
   ],
   "source": [
    "num1 = int(input('첫 번째 숫자: '))\n",
    "num2 = int(input('두 번째 숫자: '))\n",
    "\n",
    "print(f'{num1} / {num2} = {num1/num2: .2f}')\n",
    "print(f'{num1} % {num2} = {num1%num2: .2f}')\n",
    "print(f'{num1} // {num2} = {num1//num2: .2f}')\n",
    "print(f'{num1} ** {num2} = {num1**num2: .2f}')"
   ]
  },
  {
   "cell_type": "markdown",
   "id": "d8628d13",
   "metadata": {},
   "source": [
    "07"
   ]
  },
  {
   "cell_type": "code",
   "execution_count": 24,
   "id": "0779eb29",
   "metadata": {},
   "outputs": [
    {
     "name": "stdout",
     "output_type": "stream",
     "text": [
      "첫 번째 16진수 실수 입력 >> f\n",
      "첫 번째 16진수 실수 입력 >> e.1\n",
      "실수1:  15.0 실수2:  14.0625\n",
      "합:  29.0625\n",
      "차:  0.9375\n",
      "곱하기:  210.9375\n",
      "나누기:  1.0666666666666667\n"
     ]
    }
   ],
   "source": [
    "f1 = float.fromhex(input('첫 번째 16진수 실수 입력 >> '))\n",
    "f2 = float.fromhex(input('첫 번째 16진수 실수 입력 >> '))\n",
    "\n",
    "print('실수1: ', f1, '실수2: ', f2)\n",
    "print('합: ', f1 + f2)\n",
    "print('차: ', f1 - f2)\n",
    "print('곱하기: ', f1 * f2)\n",
    "print('나누기: ', f1 / f2)"
   ]
  },
  {
   "cell_type": "code",
   "execution_count": 14,
   "id": "388e332b",
   "metadata": {},
   "outputs": [
    {
     "name": "stdout",
     "output_type": "stream",
     "text": [
      "첫 번째 16진수: f\n",
      "두 번째 16진수: e\n",
      "실수1:  15 실수2:  14\n",
      "합:  29\n",
      "차:  1\n",
      "곱하기:  210\n",
      "나누기:  1.0714285714285714\n"
     ]
    }
   ],
   "source": [
    "hex1 = input('첫 번째 16진수: ')\n",
    "hex2 = input('두 번째 16진수: ')\n",
    "\n",
    "num1, num2 = int(hex1, 16), int(hex2, 16)\n",
    "print('실수1: ', num1, '실수2: ', num2)\n",
    "print('합: ', num1 + num2)\n",
    "print('차: ', num1 - num2)\n",
    "print('곱하기: ', num1 * num2)\n",
    "print('나누기: ', num1 / num2)"
   ]
  },
  {
   "cell_type": "markdown",
   "id": "c93ebea2",
   "metadata": {},
   "source": [
    "08"
   ]
  },
  {
   "cell_type": "code",
   "execution_count": 27,
   "id": "83c52572",
   "metadata": {},
   "outputs": [
    {
     "name": "stdout",
     "output_type": "stream",
     "text": [
      "네 자릿수 정수 입력 >> 5432\n",
      "2345\n"
     ]
    }
   ],
   "source": [
    "num = int(input('네 자릿수 정수 입력 >> '))\n",
    "renum = (num // 1000) + (((num % 1000) // 100) * 10) + (((num % 100) // 10) * 100) + ((num % 10) * 1000)\n",
    "print(renum)"
   ]
  },
  {
   "cell_type": "code",
   "execution_count": 28,
   "id": "3a402e8e",
   "metadata": {},
   "outputs": [
    {
     "name": "stdout",
     "output_type": "stream",
     "text": [
      "네 자릿수 정수 입력 >> 1234\n",
      "4321\n"
     ]
    }
   ],
   "source": [
    "# 간단하게\n",
    "num = int(input('네 자릿수 정수 입력 >> '))\n",
    "print(int(str(num)[::-1]))"
   ]
  }
 ],
 "metadata": {
  "kernelspec": {
   "display_name": "Python 3 (ipykernel)",
   "language": "python",
   "name": "python3"
  },
  "language_info": {
   "codemirror_mode": {
    "name": "ipython",
    "version": 3
   },
   "file_extension": ".py",
   "mimetype": "text/x-python",
   "name": "python",
   "nbconvert_exporter": "python",
   "pygments_lexer": "ipython3",
   "version": "3.9.7"
  }
 },
 "nbformat": 4,
 "nbformat_minor": 5
}
